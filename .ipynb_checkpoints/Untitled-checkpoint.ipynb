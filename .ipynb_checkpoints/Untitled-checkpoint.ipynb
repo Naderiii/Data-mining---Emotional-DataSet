{
 "cells": [
  {
   "cell_type": "markdown",
   "metadata": {},
   "source": [
    "# Load emotional dataSet"
   ]
  },
  {
   "cell_type": "code",
   "execution_count": 100,
   "metadata": {},
   "outputs": [],
   "source": [
    "from IPython.core.debugger import set_trace\n",
    "\n",
    "import pandas as pd\n",
    "import numpy as np\n",
    "import matplotlib.pyplot as plt\n",
    "import time\n",
    "import re\n",
    "\n",
    "plt.style.use(style = 'seaborn')"
   ]
  },
  {
   "cell_type": "code",
   "execution_count": 101,
   "metadata": {},
   "outputs": [],
   "source": [
    "df=pd.read_excel('C:\\\\Users\\\\hediyeh\\\\Dropbox\\\\naderi\\\\emotional.xlsx')"
   ]
  },
  {
   "cell_type": "code",
   "execution_count": 102,
   "metadata": {},
   "outputs": [
    {
     "data": {
      "text/html": [
       "<div>\n",
       "<style scoped>\n",
       "    .dataframe tbody tr th:only-of-type {\n",
       "        vertical-align: middle;\n",
       "    }\n",
       "\n",
       "    .dataframe tbody tr th {\n",
       "        vertical-align: top;\n",
       "    }\n",
       "\n",
       "    .dataframe thead th {\n",
       "        text-align: right;\n",
       "    }\n",
       "</style>\n",
       "<table border=\"1\" class=\"dataframe\">\n",
       "  <thead>\n",
       "    <tr style=\"text-align: right;\">\n",
       "      <th></th>\n",
       "      <th>#</th>\n",
       "      <th>ID</th>\n",
       "      <th>Name</th>\n",
       "      <th>Description</th>\n",
       "      <th>Location</th>\n",
       "      <th>Latitude</th>\n",
       "      <th>Longitude</th>\n",
       "      <th>Author Username</th>\n",
       "      <th>Tags</th>\n",
       "      <th>File Name</th>\n",
       "      <th>...</th>\n",
       "      <th>Rating</th>\n",
       "      <th>Created At</th>\n",
       "      <th>Taken At</th>\n",
       "      <th>Category</th>\n",
       "      <th>Favorites Count</th>\n",
       "      <th>Country</th>\n",
       "      <th>County</th>\n",
       "      <th>State</th>\n",
       "      <th>City</th>\n",
       "      <th>Attraction</th>\n",
       "    </tr>\n",
       "  </thead>\n",
       "  <tbody>\n",
       "    <tr>\n",
       "      <th>0</th>\n",
       "      <td>1</td>\n",
       "      <td>218308049</td>\n",
       "      <td>Group of five friends celebrating in their sum...</td>\n",
       "      <td>Group of five friends celebrating in their sum...</td>\n",
       "      <td>NaN</td>\n",
       "      <td>NaN</td>\n",
       "      <td>NaN</td>\n",
       "      <td>kato84</td>\n",
       "      <td>celebration,party,board,young,family,friends,s...</td>\n",
       "      <td>218308049_440.jpg</td>\n",
       "      <td>...</td>\n",
       "      <td>46.8</td>\n",
       "      <td>42918.6</td>\n",
       "      <td>42845.5</td>\n",
       "      <td>7</td>\n",
       "      <td>NaN</td>\n",
       "      <td>NaN</td>\n",
       "      <td>NaN</td>\n",
       "      <td>NaN</td>\n",
       "      <td>NaN</td>\n",
       "      <td>NaN</td>\n",
       "    </tr>\n",
       "    <tr>\n",
       "      <th>1</th>\n",
       "      <td>2</td>\n",
       "      <td>70488871</td>\n",
       "      <td>Young beautiful girl outdoor portrait</td>\n",
       "      <td>Young beautiful girl outdoor portrait</td>\n",
       "      <td>NaN</td>\n",
       "      <td>NaN</td>\n",
       "      <td>NaN</td>\n",
       "      <td>photalina</td>\n",
       "      <td>cute,portrait,beautiful,look,young,beauty,love...</td>\n",
       "      <td>70488871_440.jpg</td>\n",
       "      <td>...</td>\n",
       "      <td>49.8</td>\n",
       "      <td>41773.8</td>\n",
       "      <td>NaN</td>\n",
       "      <td>7</td>\n",
       "      <td>NaN</td>\n",
       "      <td>NaN</td>\n",
       "      <td>NaN</td>\n",
       "      <td>NaN</td>\n",
       "      <td>NaN</td>\n",
       "      <td>NaN</td>\n",
       "    </tr>\n",
       "    <tr>\n",
       "      <th>2</th>\n",
       "      <td>3</td>\n",
       "      <td>118104037</td>\n",
       "      <td>Two children running Follow</td>\n",
       "      <td>Action two children running on the berms, ditc...</td>\n",
       "      <td>NaN</td>\n",
       "      <td>17.679742</td>\n",
       "      <td>103.838782</td>\n",
       "      <td>sutiponmm</td>\n",
       "      <td>sweet,flower,cute,adorable,life,portrait,beaut...</td>\n",
       "      <td>118104037_440.jpg</td>\n",
       "      <td>...</td>\n",
       "      <td>48.9</td>\n",
       "      <td>42229.4</td>\n",
       "      <td>42225.9</td>\n",
       "      <td>0</td>\n",
       "      <td>NaN</td>\n",
       "      <td>NaN</td>\n",
       "      <td>NaN</td>\n",
       "      <td>NaN</td>\n",
       "      <td>NaN</td>\n",
       "      <td>NaN</td>\n",
       "    </tr>\n",
       "    <tr>\n",
       "      <th>3</th>\n",
       "      <td>4</td>\n",
       "      <td>218308265</td>\n",
       "      <td>Group of five friends celebrating in their sum...</td>\n",
       "      <td>Group of five friends celebrating in their sum...</td>\n",
       "      <td>NaN</td>\n",
       "      <td>NaN</td>\n",
       "      <td>NaN</td>\n",
       "      <td>kato84</td>\n",
       "      <td>celebration,drink,party,board,young,family,fri...</td>\n",
       "      <td>218308265_440.jpg</td>\n",
       "      <td>...</td>\n",
       "      <td>46.1</td>\n",
       "      <td>42918.6</td>\n",
       "      <td>42845.6</td>\n",
       "      <td>7</td>\n",
       "      <td>NaN</td>\n",
       "      <td>NaN</td>\n",
       "      <td>NaN</td>\n",
       "      <td>NaN</td>\n",
       "      <td>NaN</td>\n",
       "      <td>NaN</td>\n",
       "    </tr>\n",
       "    <tr>\n",
       "      <th>4</th>\n",
       "      <td>5</td>\n",
       "      <td>88335247</td>\n",
       "      <td>Lovers of the Tide</td>\n",
       "      <td>My Photoshop actions &amp; Lightroom presets on Cr...</td>\n",
       "      <td>NaN</td>\n",
       "      <td>NaN</td>\n",
       "      <td>NaN</td>\n",
       "      <td>Rainman</td>\n",
       "      <td>close-up,whiskers,portrait,love,two,monochrome...</td>\n",
       "      <td>88335247_440.jpg</td>\n",
       "      <td>...</td>\n",
       "      <td>49.9</td>\n",
       "      <td>41944.9</td>\n",
       "      <td>NaN</td>\n",
       "      <td>7</td>\n",
       "      <td>NaN</td>\n",
       "      <td>NaN</td>\n",
       "      <td>NaN</td>\n",
       "      <td>NaN</td>\n",
       "      <td>NaN</td>\n",
       "      <td>NaN</td>\n",
       "    </tr>\n",
       "  </tbody>\n",
       "</table>\n",
       "<p>5 rows × 28 columns</p>\n",
       "</div>"
      ],
      "text/plain": [
       "   #         ID                                               Name  \\\n",
       "0  1  218308049  Group of five friends celebrating in their sum...   \n",
       "1  2   70488871              Young beautiful girl outdoor portrait   \n",
       "2  3  118104037                        Two children running Follow   \n",
       "3  4  218308265  Group of five friends celebrating in their sum...   \n",
       "4  5   88335247                                 Lovers of the Tide   \n",
       "\n",
       "                                         Description Location   Latitude  \\\n",
       "0  Group of five friends celebrating in their sum...      NaN        NaN   \n",
       "1              Young beautiful girl outdoor portrait      NaN        NaN   \n",
       "2  Action two children running on the berms, ditc...      NaN  17.679742   \n",
       "3  Group of five friends celebrating in their sum...      NaN        NaN   \n",
       "4  My Photoshop actions & Lightroom presets on Cr...      NaN        NaN   \n",
       "\n",
       "    Longitude Author Username  \\\n",
       "0         NaN          kato84   \n",
       "1         NaN       photalina   \n",
       "2  103.838782       sutiponmm   \n",
       "3         NaN          kato84   \n",
       "4         NaN         Rainman   \n",
       "\n",
       "                                                Tags          File Name  ...  \\\n",
       "0  celebration,party,board,young,family,friends,s...  218308049_440.jpg  ...   \n",
       "1  cute,portrait,beautiful,look,young,beauty,love...   70488871_440.jpg  ...   \n",
       "2  sweet,flower,cute,adorable,life,portrait,beaut...  118104037_440.jpg  ...   \n",
       "3  celebration,drink,party,board,young,family,fri...  218308265_440.jpg  ...   \n",
       "4  close-up,whiskers,portrait,love,two,monochrome...   88335247_440.jpg  ...   \n",
       "\n",
       "  Rating Created At Taken At Category Favorites Count Country County  State  \\\n",
       "0   46.8    42918.6  42845.5        7             NaN     NaN    NaN    NaN   \n",
       "1   49.8    41773.8      NaN        7             NaN     NaN    NaN    NaN   \n",
       "2   48.9    42229.4  42225.9        0             NaN     NaN    NaN    NaN   \n",
       "3   46.1    42918.6  42845.6        7             NaN     NaN    NaN    NaN   \n",
       "4   49.9    41944.9      NaN        7             NaN     NaN    NaN    NaN   \n",
       "\n",
       "   City Attraction  \n",
       "0   NaN        NaN  \n",
       "1   NaN        NaN  \n",
       "2   NaN        NaN  \n",
       "3   NaN        NaN  \n",
       "4   NaN        NaN  \n",
       "\n",
       "[5 rows x 28 columns]"
      ]
     },
     "execution_count": 102,
     "metadata": {},
     "output_type": "execute_result"
    }
   ],
   "source": [
    "df.head()"
   ]
  },
  {
   "cell_type": "code",
   "execution_count": 103,
   "metadata": {},
   "outputs": [
    {
     "data": {
      "text/plain": [
       "(16303, 28)"
      ]
     },
     "execution_count": 103,
     "metadata": {},
     "output_type": "execute_result"
    }
   ],
   "source": [
    "df.shape"
   ]
  },
  {
   "cell_type": "code",
   "execution_count": 104,
   "metadata": {},
   "outputs": [
    {
     "name": "stdout",
     "output_type": "stream",
     "text": [
      "<class 'pandas.core.frame.DataFrame'>\n",
      "RangeIndex: 16303 entries, 0 to 16302\n",
      "Data columns (total 28 columns):\n",
      " #   Column           Non-Null Count  Dtype  \n",
      "---  ------           --------------  -----  \n",
      " 0   #                16303 non-null  int64  \n",
      " 1   ID               16303 non-null  int64  \n",
      " 2   Name             16303 non-null  object \n",
      " 3   Description      11260 non-null  object \n",
      " 4   Location         1 non-null      object \n",
      " 5   Latitude         5617 non-null   float64\n",
      " 6   Longitude        5617 non-null   float64\n",
      " 7   Author Username  16303 non-null  object \n",
      " 8   Tags             16303 non-null  object \n",
      " 9   File Name        16303 non-null  object \n",
      " 10  Size             16303 non-null  object \n",
      " 11  Camera           11612 non-null  object \n",
      " 12  Lens             7022 non-null   object \n",
      " 13  Focal Length     11208 non-null  object \n",
      " 14  ISO              11320 non-null  object \n",
      " 15  Shutter Speed    11308 non-null  object \n",
      " 16  Aperture         11130 non-null  object \n",
      " 17  Times Viewed     16303 non-null  int64  \n",
      " 18  Rating           16303 non-null  float64\n",
      " 19  Created At       16303 non-null  object \n",
      " 20  Taken At         11454 non-null  object \n",
      " 21  Category         16303 non-null  int64  \n",
      " 22  Favorites Count  0 non-null      float64\n",
      " 23  Country          0 non-null      float64\n",
      " 24  County           0 non-null      float64\n",
      " 25  State            0 non-null      float64\n",
      " 26  City             0 non-null      float64\n",
      " 27  Attraction       0 non-null      float64\n",
      "dtypes: float64(9), int64(4), object(15)\n",
      "memory usage: 3.5+ MB\n"
     ]
    }
   ],
   "source": [
    "df.info()"
   ]
  },
  {
   "cell_type": "code",
   "execution_count": 105,
   "metadata": {},
   "outputs": [
    {
     "data": {
      "text/plain": [
       "(16303, 28)"
      ]
     },
     "execution_count": 105,
     "metadata": {},
     "output_type": "execute_result"
    }
   ],
   "source": [
    "df.drop_duplicates(inplace=True)\n",
    "df.shape"
   ]
  },
  {
   "cell_type": "markdown",
   "metadata": {},
   "source": [
    "# Remove some columns"
   ]
  },
  {
   "cell_type": "code",
   "execution_count": 106,
   "metadata": {},
   "outputs": [],
   "source": [
    "df.drop(['#','ID','Favorites Count','Country','State','City','Attraction', 'Size' ,'Aperture','Focal Length' , 'Latitude' ,\n",
    "         'Longitude','Author Username' , 'Location','County','File Name' ,'Lens' , 'ISO' ,\n",
    "        'Created At' , 'Taken At' , 'Shutter Speed'],axis=1 , inplace=True)"
   ]
  },
  {
   "cell_type": "code",
   "execution_count": 107,
   "metadata": {},
   "outputs": [
    {
     "data": {
      "text/plain": [
       "Name               0\n",
       "Description     5043\n",
       "Tags               0\n",
       "Camera          4691\n",
       "Times Viewed       0\n",
       "Rating             0\n",
       "Category           0\n",
       "dtype: int64"
      ]
     },
     "execution_count": 107,
     "metadata": {},
     "output_type": "execute_result"
    }
   ],
   "source": [
    "df.isnull().sum()"
   ]
  },
  {
   "cell_type": "markdown",
   "metadata": {},
   "source": [
    "## Ploting the distribution of the Category variable."
   ]
  },
  {
   "cell_type": "code",
   "execution_count": 108,
   "metadata": {},
   "outputs": [
    {
     "data": {
      "text/plain": [
       "7     7061\n",
       "0     1681\n",
       "14    1358\n",
       "5     1335\n",
       "24    1188\n",
       "4      698\n",
       "8      448\n",
       "18     346\n",
       "11     329\n",
       "25     272\n",
       "20     207\n",
       "10     200\n",
       "21     190\n",
       "6      110\n",
       "19     108\n",
       "Name: Category, dtype: int64"
      ]
     },
     "execution_count": 108,
     "metadata": {},
     "output_type": "execute_result"
    }
   ],
   "source": [
    "df.Category.value_counts()[:15]"
   ]
  },
  {
   "cell_type": "code",
   "execution_count": 109,
   "metadata": {},
   "outputs": [],
   "source": [
    "_0 = df[df.Category == 0].shape[0]\n",
    "_1 = df[df.Category == 1].shape[0]\n",
    "_2 = df[df.Category == 2].shape[0]\n",
    "_3 = df[df.Category == 3].shape[0]\n",
    "_4 = df[df.Category == 4].shape[0]\n",
    "_5 = df[df.Category == 5].shape[0]\n",
    "_6 = df[df.Category == 6].shape[0]\n",
    "_7 = df[df.Category == 7].shape[0]\n",
    "_8 = df[df.Category == 8].shape[0]\n",
    "_9 = df[df.Category == 9].shape[0]\n",
    "_10 = df[df.Category == 10].shape[0]\n",
    "_11 = df[df.Category == 11].shape[0]\n",
    "_12 = df[df.Category == 12].shape[0]\n",
    "_13 = df[df.Category == 13].shape[0]\n",
    "_14 = df[df.Category == 14].shape[0]\n",
    "_15 = df[df.Category == 15].shape[0]\n",
    "_16 = df[df.Category == 16].shape[0]\n",
    "_17 = df[df.Category == 17].shape[0]\n",
    "_18 = df[df.Category == 18].shape[0]\n",
    "_19 = df[df.Category == 19].shape[0]\n",
    "_20 = df[df.Category == 20].shape[0]\n",
    "_21 = df[df.Category == 21].shape[0]\n",
    "_22 = df[df.Category == 22].shape[0]\n",
    "_23 = df[df.Category == 23].shape[0]\n",
    "_24 = df[df.Category == 24].shape[0]\n",
    "_25 = df[df.Category == 25].shape[0]\n",
    "_26 = df[df.Category == 26].shape[0]\n",
    "_27 = df[df.Category == 27].shape[0]\n",
    "_28 = df[df.Category == 28].shape[0]\n",
    "_29 = df[df.Category == 29].shape[0]\n",
    "_30 = df[df.Category == 30].shape[0]"
   ]
  },
  {
   "cell_type": "code",
   "execution_count": 110,
   "metadata": {},
   "outputs": [
    {
     "data": {
      "image/png": "[encoded data removed]",
      "text/plain": [
       "<Figure size 3600x504 with 1 Axes>"
      ]
     },
     "metadata": {},
     "output_type": "display_data"
    }
   ],
   "source": [
    "plt.figure(1 , figsize = (50 ,7))\n",
    "plt.subplot(1,2,1)\n",
    "_ =plt.bar(['_0','_1', '_2','_3','_4','_5','_6','_7','_8','_9','_10','_11','_12','_13','_14','_15','_16','_17','_18',\n",
    "            '_19','_20','_21','_22','_23','_24','_25','_26','_27','_28','_29','_30'] ,\n",
    "           [_0,_1,_2,_3,_4,_5,_6,_7,_8,_9,_10,_11,_12,_13,_14,_15,_16,_17,_18,_19,_20,_21,_22,_23,_24,_25,_26,\n",
    "            _27,_28,_29,_30])"
   ]
  },
  {
   "cell_type": "markdown",
   "metadata": {},
   "source": [
    "# Missing Values"
   ]
  },
  {
   "cell_type": "code",
   "execution_count": 111,
   "metadata": {},
   "outputs": [],
   "source": [
    "#camera\n",
    "df.Camera.fillna('ffill' , inplace = True)"
   ]
  },
  {
   "cell_type": "code",
   "execution_count": 112,
   "metadata": {},
   "outputs": [
    {
     "data": {
      "text/plain": [
       "Name               0\n",
       "Description     5043\n",
       "Tags               0\n",
       "Camera             0\n",
       "Times Viewed       0\n",
       "Rating             0\n",
       "Category           0\n",
       "dtype: int64"
      ]
     },
     "execution_count": 112,
     "metadata": {},
     "output_type": "execute_result"
    }
   ],
   "source": [
    "df.isnull().sum()"
   ]
  },
  {
   "cell_type": "code",
   "execution_count": 113,
   "metadata": {},
   "outputs": [],
   "source": [
    "def clean_text(val):\n",
    "\n",
    "    if type(val) != str:\n",
    "        val = str(val)\n",
    "\n",
    "    #Removes HTML tags and urls\n",
    "    val = re.sub('<.*</[a-b]+>', \" \", val)\n",
    "    val = re.sub('http.* |http.*\\s', \" \", val)\n",
    "    val = re.sub('www.* |www.*\\s', \" \", val)\n",
    "    val = re.sub('nan', '', val)\n",
    "    val = re.sub(r'\\b\\w{1,2}\\b', '', val) # remove words of length less than 3 from a string\n",
    "        \n",
    "    no_nan = str(val).replace('nan', ' ')\n",
    "    no_tabs = str(val).replace('\\t', ' ').replace('\\n', '')#Normalize tabs and remove newlines\n",
    "    alphas_only = re.sub(\"[^a-zA-Z,\\s]|[\\,]\", \" \", no_tabs) #Remove all characters except A-Z.\n",
    "    multi_spaces = re.sub(\" +\", \" \", alphas_only) #Normalize spaces to 1\n",
    "    no_spaces = multi_spaces.strip()#Strip trailing and leading spaces\n",
    "    clean_text = no_spaces.lower() #Normalize all charachters to lowercase\n",
    "    \n",
    "    if len(clean_text) == 0 and clean_text.count(' ') == 0:\n",
    "        return np.nan\n",
    "    else: return clean_text"
   ]
  },
  {
   "cell_type": "code",
   "execution_count": 114,
   "metadata": {},
   "outputs": [
    {
     "data": {
      "text/html": [
       "<div>\n",
       "<style scoped>\n",
       "    .dataframe tbody tr th:only-of-type {\n",
       "        vertical-align: middle;\n",
       "    }\n",
       "\n",
       "    .dataframe tbody tr th {\n",
       "        vertical-align: top;\n",
       "    }\n",
       "\n",
       "    .dataframe thead th {\n",
       "        text-align: right;\n",
       "    }\n",
       "</style>\n",
       "<table border=\"1\" class=\"dataframe\">\n",
       "  <thead>\n",
       "    <tr style=\"text-align: right;\">\n",
       "      <th></th>\n",
       "      <th>Camera</th>\n",
       "      <th>Times Viewed</th>\n",
       "      <th>Rating</th>\n",
       "      <th>Category</th>\n",
       "      <th>keywords</th>\n",
       "    </tr>\n",
       "  </thead>\n",
       "  <tbody>\n",
       "    <tr>\n",
       "      <th>0</th>\n",
       "      <td>NIKON D610</td>\n",
       "      <td>18570</td>\n",
       "      <td>46.8</td>\n",
       "      <td>7</td>\n",
       "      <td>group five friends celebrating their summer be...</td>\n",
       "    </tr>\n",
       "    <tr>\n",
       "      <th>1</th>\n",
       "      <td>Canon EOS600D</td>\n",
       "      <td>124168</td>\n",
       "      <td>49.8</td>\n",
       "      <td>7</td>\n",
       "      <td>young beautiful girl outdoor portrait young be...</td>\n",
       "    </tr>\n",
       "    <tr>\n",
       "      <th>2</th>\n",
       "      <td>Canon EOS 6D</td>\n",
       "      <td>84304</td>\n",
       "      <td>48.9</td>\n",
       "      <td>0</td>\n",
       "      <td>two children running follow action two childre...</td>\n",
       "    </tr>\n",
       "    <tr>\n",
       "      <th>3</th>\n",
       "      <td>NIKON D610</td>\n",
       "      <td>16932</td>\n",
       "      <td>46.1</td>\n",
       "      <td>7</td>\n",
       "      <td>group five friends celebrating their summer be...</td>\n",
       "    </tr>\n",
       "    <tr>\n",
       "      <th>4</th>\n",
       "      <td>ffill</td>\n",
       "      <td>105510</td>\n",
       "      <td>49.9</td>\n",
       "      <td>7</td>\n",
       "      <td>lovers the tide photoshop actions lightroom pr...</td>\n",
       "    </tr>\n",
       "    <tr>\n",
       "      <th>...</th>\n",
       "      <td>...</td>\n",
       "      <td>...</td>\n",
       "      <td>...</td>\n",
       "      <td>...</td>\n",
       "      <td>...</td>\n",
       "    </tr>\n",
       "    <tr>\n",
       "      <th>16298</th>\n",
       "      <td>Canon EOS 5D Mark III</td>\n",
       "      <td>89</td>\n",
       "      <td>21.3</td>\n",
       "      <td>7</td>\n",
       "      <td>absolute web nbsp set nbsp set nbsp interview ...</td>\n",
       "    </tr>\n",
       "    <tr>\n",
       "      <th>16299</th>\n",
       "      <td>NIKON D4</td>\n",
       "      <td>522</td>\n",
       "      <td>36.0</td>\n",
       "      <td>7</td>\n",
       "      <td>sensual sensual portrait beautiful beauty legs...</td>\n",
       "    </tr>\n",
       "    <tr>\n",
       "      <th>16300</th>\n",
       "      <td>NIKON D800</td>\n",
       "      <td>155</td>\n",
       "      <td>22.0</td>\n",
       "      <td>7</td>\n",
       "      <td>matt mosby visit facebook autumn portrait beau...</td>\n",
       "    </tr>\n",
       "    <tr>\n",
       "      <th>16301</th>\n",
       "      <td>NIKON D800</td>\n",
       "      <td>185</td>\n",
       "      <td>27.8</td>\n",
       "      <td>7</td>\n",
       "      <td>matt mosby carolin visit facebook autumn portr...</td>\n",
       "    </tr>\n",
       "    <tr>\n",
       "      <th>16302</th>\n",
       "      <td>Canon EOS 60D</td>\n",
       "      <td>83</td>\n",
       "      <td>31.7</td>\n",
       "      <td>7</td>\n",
       "      <td>lion heart model stamina routography routograp...</td>\n",
       "    </tr>\n",
       "  </tbody>\n",
       "</table>\n",
       "<p>16303 rows × 5 columns</p>\n",
       "</div>"
      ],
      "text/plain": [
       "                      Camera  Times Viewed  Rating  Category  \\\n",
       "0                 NIKON D610         18570    46.8         7   \n",
       "1              Canon EOS600D        124168    49.8         7   \n",
       "2               Canon EOS 6D         84304    48.9         0   \n",
       "3                 NIKON D610         16932    46.1         7   \n",
       "4                      ffill        105510    49.9         7   \n",
       "...                      ...           ...     ...       ...   \n",
       "16298  Canon EOS 5D Mark III            89    21.3         7   \n",
       "16299               NIKON D4           522    36.0         7   \n",
       "16300             NIKON D800           155    22.0         7   \n",
       "16301             NIKON D800           185    27.8         7   \n",
       "16302          Canon EOS 60D            83    31.7         7   \n",
       "\n",
       "                                                keywords  \n",
       "0      group five friends celebrating their summer be...  \n",
       "1      young beautiful girl outdoor portrait young be...  \n",
       "2      two children running follow action two childre...  \n",
       "3      group five friends celebrating their summer be...  \n",
       "4      lovers the tide photoshop actions lightroom pr...  \n",
       "...                                                  ...  \n",
       "16298  absolute web nbsp set nbsp set nbsp interview ...  \n",
       "16299  sensual sensual portrait beautiful beauty legs...  \n",
       "16300  matt mosby visit facebook autumn portrait beau...  \n",
       "16301  matt mosby carolin visit facebook autumn portr...  \n",
       "16302  lion heart model stamina routography routograp...  \n",
       "\n",
       "[16303 rows x 5 columns]"
      ]
     },
     "execution_count": 114,
     "metadata": {},
     "output_type": "execute_result"
    }
   ],
   "source": [
    "df['Description'] = df['Description'].astype(str)\n",
    "df['keywords'] = df[['Name', 'Description', 'Tags']].agg(' '.join, axis=1)\n",
    "df['keywords'] = df['keywords'].map(clean_text)\n",
    "df.drop(['Description' , 'Name' , 'Tags'] , axis=1 , inplace = True)\n",
    "df"
   ]
  },
  {
   "cell_type": "markdown",
   "metadata": {},
   "source": [
    "# N-gram analysis"
   ]
  },
  {
   "cell_type": "markdown",
   "metadata": {},
   "source": [
    "## stop words"
   ]
  },
  {
   "cell_type": "code",
   "execution_count": 115,
   "metadata": {},
   "outputs": [
    {
     "data": {
      "text/plain": [
       "['i',\n",
       " 'me',\n",
       " 'my',\n",
       " 'myself',\n",
       " 'we',\n",
       " 'our',\n",
       " 'ours',\n",
       " 'ourselves',\n",
       " 'you',\n",
       " \"you're\",\n",
       " \"you've\",\n",
       " \"you'll\",\n",
       " \"you'd\",\n",
       " 'your',\n",
       " 'yours',\n",
       " 'yourself',\n",
       " 'yourselves',\n",
       " 'he',\n",
       " 'him',\n",
       " 'his',\n",
       " 'himself',\n",
       " 'she',\n",
       " \"she's\",\n",
       " 'her',\n",
       " 'hers',\n",
       " 'herself',\n",
       " 'it',\n",
       " \"it's\",\n",
       " 'its',\n",
       " 'itself',\n",
       " 'they',\n",
       " 'them',\n",
       " 'their',\n",
       " 'theirs',\n",
       " 'themselves',\n",
       " 'what',\n",
       " 'which',\n",
       " 'who',\n",
       " 'whom',\n",
       " 'this',\n",
       " 'that',\n",
       " \"that'll\",\n",
       " 'these',\n",
       " 'those',\n",
       " 'am',\n",
       " 'is',\n",
       " 'are',\n",
       " 'was',\n",
       " 'were',\n",
       " 'be',\n",
       " 'been',\n",
       " 'being',\n",
       " 'have',\n",
       " 'has',\n",
       " 'had',\n",
       " 'having',\n",
       " 'do',\n",
       " 'does',\n",
       " 'did',\n",
       " 'doing',\n",
       " 'a',\n",
       " 'an',\n",
       " 'the',\n",
       " 'and',\n",
       " 'but',\n",
       " 'if',\n",
       " 'or',\n",
       " 'because',\n",
       " 'as',\n",
       " 'until',\n",
       " 'while',\n",
       " 'of',\n",
       " 'at',\n",
       " 'by',\n",
       " 'for',\n",
       " 'with',\n",
       " 'about',\n",
       " 'against',\n",
       " 'between',\n",
       " 'into',\n",
       " 'through',\n",
       " 'during',\n",
       " 'before',\n",
       " 'after',\n",
       " 'above',\n",
       " 'below',\n",
       " 'to',\n",
       " 'from',\n",
       " 'up',\n",
       " 'down',\n",
       " 'in',\n",
       " 'out',\n",
       " 'on',\n",
       " 'off',\n",
       " 'over',\n",
       " 'under',\n",
       " 'again',\n",
       " 'further',\n",
       " 'then',\n",
       " 'once',\n",
       " 'here',\n",
       " 'there',\n",
       " 'when',\n",
       " 'where',\n",
       " 'why',\n",
       " 'how',\n",
       " 'all',\n",
       " 'any',\n",
       " 'both',\n",
       " 'each',\n",
       " 'few',\n",
       " 'more',\n",
       " 'most',\n",
       " 'other',\n",
       " 'some',\n",
       " 'such',\n",
       " 'no',\n",
       " 'nor',\n",
       " 'not',\n",
       " 'only',\n",
       " 'own',\n",
       " 'same',\n",
       " 'so',\n",
       " 'than',\n",
       " 'too',\n",
       " 'very',\n",
       " 's',\n",
       " 't',\n",
       " 'can',\n",
       " 'will',\n",
       " 'just',\n",
       " 'don',\n",
       " \"don't\",\n",
       " 'should',\n",
       " \"should've\",\n",
       " 'now',\n",
       " 'd',\n",
       " 'll',\n",
       " 'm',\n",
       " 'o',\n",
       " 're',\n",
       " 've',\n",
       " 'y',\n",
       " 'ain',\n",
       " 'aren',\n",
       " \"aren't\",\n",
       " 'couldn',\n",
       " \"couldn't\",\n",
       " 'didn',\n",
       " \"didn't\",\n",
       " 'doesn',\n",
       " \"doesn't\",\n",
       " 'hadn',\n",
       " \"hadn't\",\n",
       " 'hasn',\n",
       " \"hasn't\",\n",
       " 'haven',\n",
       " \"haven't\",\n",
       " 'isn',\n",
       " \"isn't\",\n",
       " 'ma',\n",
       " 'mightn',\n",
       " \"mightn't\",\n",
       " 'mustn',\n",
       " \"mustn't\",\n",
       " 'needn',\n",
       " \"needn't\",\n",
       " 'shan',\n",
       " \"shan't\",\n",
       " 'shouldn',\n",
       " \"shouldn't\",\n",
       " 'wasn',\n",
       " \"wasn't\",\n",
       " 'weren',\n",
       " \"weren't\",\n",
       " 'won',\n",
       " \"won't\",\n",
       " 'wouldn',\n",
       " \"wouldn't\"]"
      ]
     },
     "execution_count": 115,
     "metadata": {},
     "output_type": "execute_result"
    }
   ],
   "source": [
    "from nltk.corpus import stopwords\n",
    "\n",
    "stopwords.words('english')"
   ]
  },
  {
   "cell_type": "markdown",
   "metadata": {},
   "source": [
    "#### note: zip() in conjunction with the \" operator can be used to unzip a list"
   ]
  },
  {
   "cell_type": "code",
   "execution_count": 116,
   "metadata": {},
   "outputs": [],
   "source": [
    "def generate_ngrams(text , n_gram = 1 , stop = True):\n",
    "    \n",
    "    stop = set (stopwords.words('english')) if stop else {}\n",
    "    \n",
    "    token = [\n",
    "        token for token in text.lower().split(\" \") if token !=\"\" if token not in stop\n",
    "    ]\n",
    "    \n",
    "    z = zip(*[token[i:] for i in range(n_gram)])\n",
    "    ngrams = [\" \".join(ngram) for ngram in z]\n",
    "    \n",
    "    return ngrams"
   ]
  },
  {
   "cell_type": "markdown",
   "metadata": {},
   "source": [
    "## Stemming"
   ]
  },
  {
   "cell_type": "markdown",
   "metadata": {},
   "source": [
    "#### Bundling together words of same root"
   ]
  },
  {
   "cell_type": "code",
   "execution_count": 117,
   "metadata": {},
   "outputs": [],
   "source": [
    "from nltk.stem.porter import PorterStemmer\n",
    "\n",
    "stemmer = PorterStemmer()\n",
    "\n",
    "\n",
    "def stemming(text):\n",
    "    text = [stemmer.stem(word) for word in text.split()]\n",
    "    \n",
    "    return \" \".join(text)"
   ]
  },
  {
   "cell_type": "code",
   "execution_count": 118,
   "metadata": {},
   "outputs": [],
   "source": [
    "#df['keywords'] = df['keywords'].astype(str)\n",
    "df['keywords']=df['keywords'].map(stemming)"
   ]
  },
  {
   "cell_type": "markdown",
   "metadata": {},
   "source": [
    "## Create unigrams"
   ]
  },
  {
   "cell_type": "code",
   "execution_count": 119,
   "metadata": {},
   "outputs": [],
   "source": [
    "from collections import defaultdict"
   ]
  },
  {
   "cell_type": "code",
   "execution_count": 120,
   "metadata": {},
   "outputs": [],
   "source": [
    "_0_unigrams = defaultdict(int)\n",
    "_1_unigrams = defaultdict(int)\n",
    "_2_unigrams = defaultdict(int)\n",
    "_3_unigrams = defaultdict(int)\n",
    "_4_unigrams = defaultdict(int)\n",
    "_5_unigrams = defaultdict(int)\n",
    "_6_unigrams = defaultdict(int)\n",
    "_7_unigrams = defaultdict(int)\n",
    "_8_unigrams = defaultdict(int)\n",
    "_9_unigrams = defaultdict(int)\n",
    "_10_unigrams = defaultdict(int)\n",
    "_11_unigrams = defaultdict(int)\n",
    "_12_unigrams = defaultdict(int)\n",
    "_13_unigrams = defaultdict(int)\n",
    "_14_unigrams = defaultdict(int)\n",
    "_15_unigrams = defaultdict(int)\n",
    "_16_unigrams = defaultdict(int)\n",
    "_17_unigrams = defaultdict(int)\n",
    "_18_unigrams = defaultdict(int)\n",
    "_19_unigrams = defaultdict(int)\n",
    "_20_unigrams = defaultdict(int)\n",
    "_21_unigrams = defaultdict(int)\n",
    "_22_unigrams = defaultdict(int)\n",
    "_23_unigrams = defaultdict(int)\n",
    "_24_unigrams = defaultdict(int)\n",
    "_25_unigrams = defaultdict(int)\n",
    "_26_unigrams = defaultdict(int)\n",
    "_27_unigrams = defaultdict(int)\n",
    "_28_unigrams = defaultdict(int)\n",
    "_29_unigrams = defaultdict(int)\n",
    "_30_unigrams = defaultdict(int)\n"
   ]
  },
  {
   "cell_type": "code",
   "execution_count": 121,
   "metadata": {},
   "outputs": [],
   "source": [
    "for text in df[df.Category == 0].keywords:\n",
    "    for word in generate_ngrams(text):\n",
    "        _0_unigrams[word] += 1\n",
    "        \n",
    "for text in df[df.Category == 1].keywords:\n",
    "    for word in generate_ngrams(text):\n",
    "        _1_unigrams[word] += 1\n",
    "\n",
    "for text in df[df.Category == 2].keywords:\n",
    "    for word in generate_ngrams(text):\n",
    "        _2_unigrams[word] += 1\n",
    "        \n",
    "for text in df[df.Category == 3].keywords:\n",
    "    for word in generate_ngrams(text):\n",
    "        _3_unigrams[word] += 1\n",
    "        \n",
    "for text in df[df.Category == 4].keywords:\n",
    "    for word in generate_ngrams(text):\n",
    "        _4_unigrams[word] += 1\n",
    "        \n",
    "for text in df[df.Category == 5].keywords:\n",
    "    for word in generate_ngrams(text):\n",
    "        _5_unigrams[word] += 1\n",
    "        \n",
    "for text in df[df.Category == 6].keywords:\n",
    "    for word in generate_ngrams(text):\n",
    "        _6_unigrams[word] += 1\n",
    "        \n",
    "for text in df[df.Category == 7].keywords:\n",
    "    for word in generate_ngrams(text):\n",
    "        _7_unigrams[word] += 1\n",
    "        \n",
    "for text in df[df.Category == 8].keywords:\n",
    "    for word in generate_ngrams(text):\n",
    "        _8_unigrams[word] += 1\n",
    "\n",
    "for text in df[df.Category == 9].keywords:\n",
    "    for word in generate_ngrams(text):\n",
    "        _9_unigrams[word] += 1\n",
    "\n",
    "for text in df[df.Category == 10].keywords:\n",
    "    for word in generate_ngrams(text):\n",
    "        _10_unigrams[word] += 1       \n",
    "        \n",
    "for text in df[df.Category == 11].keywords:\n",
    "    for word in generate_ngrams(text):\n",
    "        _11_unigrams[word] += 1\n",
    "\n",
    "for text in df[df.Category == 12].keywords:\n",
    "    for word in generate_ngrams(text):\n",
    "        _12_unigrams[word] += 1\n",
    "        \n",
    "for text in df[df.Category == 13].keywords:\n",
    "    for word in generate_ngrams(text):\n",
    "        _13_unigrams[word] += 1\n",
    "        \n",
    "for text in df[df.Category == 14].keywords:\n",
    "    for word in generate_ngrams(text):\n",
    "        _14_unigrams[word] += 1\n",
    "        \n",
    "for text in df[df.Category == 15].keywords:\n",
    "    for word in generate_ngrams(text):\n",
    "        _15_unigrams[word] += 1\n",
    "        \n",
    "for text in df[df.Category == 16].keywords:\n",
    "    for word in generate_ngrams(text):\n",
    "        _16_unigrams[word] += 1\n",
    "\n",
    "for text in df[df.Category == 17].keywords:\n",
    "    for word in generate_ngrams(text):\n",
    "        _17_unigrams[word] += 1\n",
    "\n",
    "for text in df[df.Category == 18].keywords:\n",
    "    for word in generate_ngrams(text):\n",
    "        _18_unigrams[word] += 1\n",
    "        \n",
    "for text in df[df.Category == 19].keywords:\n",
    "    for word in generate_ngrams(text):\n",
    "        _19_unigrams[word] += 1\n",
    "        \n",
    "for text in df[df.Category == 20].keywords:\n",
    "    for word in generate_ngrams(text):\n",
    "        _20_unigrams[word] += 1\n",
    "        \n",
    "for text in df[df.Category == 21].keywords:\n",
    "    for word in generate_ngrams(text):\n",
    "        _21_unigrams[word] += 1\n",
    "        \n",
    "for text in df[df.Category == 22].keywords:\n",
    "    for word in generate_ngrams(text):\n",
    "        _22_unigrams[word] += 1\n",
    "        \n",
    "for text in df[df.Category == 23].keywords:\n",
    "    for word in generate_ngrams(text):\n",
    "        _23_unigrams[word] += 1\n",
    "        \n",
    "for text in df[df.Category == 24].keywords:\n",
    "    for word in generate_ngrams(text):\n",
    "        _24_unigrams[word] += 1\n",
    "        \n",
    "for text in df[df.Category == 25].keywords:\n",
    "    for word in generate_ngrams(text):\n",
    "        _25_unigrams[word] += 1\n",
    "        \n",
    "for text in df[df.Category == 26].keywords:\n",
    "    for word in generate_ngrams(text):\n",
    "        _26_unigrams[word] += 1\n",
    "\n",
    "for text in df[df.Category == 27].keywords:\n",
    "    for word in generate_ngrams(text):\n",
    "        _27_unigrams[word] += 1\n",
    "        \n",
    "for text in df[df.Category == 28].keywords:\n",
    "    for word in generate_ngrams(text):\n",
    "        _28_unigrams[word] += 1\n",
    "        \n",
    "for text in df[df.Category == 29].keywords:\n",
    "    for word in generate_ngrams(text):\n",
    "        _29_unigrams[word] += 1\n",
    "        \n",
    "for text in df[df.Category == 30].keywords:\n",
    "    for word in generate_ngrams(text):\n",
    "        _30_unigrams[word] += 1"
   ]
  },
  {
   "cell_type": "code",
   "execution_count": 122,
   "metadata": {},
   "outputs": [
    {
     "data": {
      "text/plain": [
       "defaultdict(int,\n",
       "            {'two': 16,\n",
       "             'children': 18,\n",
       "             'run': 13,\n",
       "             'follow': 8,\n",
       "             'action': 8,\n",
       "             'berm': 1,\n",
       "             'ditch': 1,\n",
       "             'field': 22,\n",
       "             'play': 40,\n",
       "             'life': 64,\n",
       "             'farmer': 1,\n",
       "             'thailand': 22,\n",
       "             'sweet': 22,\n",
       "             'flower': 52,\n",
       "             'cute': 69,\n",
       "             'ador': 20,\n",
       "             'portrait': 1235,\n",
       "             'beauti': 516,\n",
       "             'young': 310,\n",
       "             'littl': 80,\n",
       "             'green': 38,\n",
       "             'summer': 77,\n",
       "             'outdoor': 87,\n",
       "             'happi': 147,\n",
       "             'look': 86,\n",
       "             'grass': 13,\n",
       "             'natur': 141,\n",
       "             'fun': 31,\n",
       "             'pretti': 104,\n",
       "             'hair': 179,\n",
       "             'smile': 77,\n",
       "             'tree': 35,\n",
       "             'tender': 23,\n",
       "             'child': 80,\n",
       "             'peopl': 162,\n",
       "             'femal': 213,\n",
       "             'girl': 405,\n",
       "             'asian': 20,\n",
       "             'park': 25,\n",
       "             'asia': 3,\n",
       "             'kid': 70,\n",
       "             'lawn': 2,\n",
       "             'caucasian': 97,\n",
       "             'lifestyl': 64,\n",
       "             'countri': 3,\n",
       "             'person': 126,\n",
       "             'joy': 49,\n",
       "             'dress': 279,\n",
       "             'childhood': 40,\n",
       "             'blond': 188,\n",
       "             'boy': 57,\n",
       "             'bow': 2,\n",
       "             'emot': 1787,\n",
       "             'wave': 12,\n",
       "             'happin': 1,\n",
       "             'orphan': 1,\n",
       "             'sundress': 1,\n",
       "             'photogen': 1,\n",
       "             'rune': 1,\n",
       "             'contempl': 6,\n",
       "             'part': 4,\n",
       "             'case': 2,\n",
       "             'studi': 9,\n",
       "             'complet': 2,\n",
       "             'earlier': 2,\n",
       "             'thi': 22,\n",
       "             'year': 26,\n",
       "             'chimp': 2,\n",
       "             'white': 1067,\n",
       "             'anim': 25,\n",
       "             'eye': 129,\n",
       "             'black': 935,\n",
       "             'face': 261,\n",
       "             'mammal': 2,\n",
       "             'zoo': 7,\n",
       "             'wildlif': 3,\n",
       "             'africa': 11,\n",
       "             'wild': 4,\n",
       "             'water': 32,\n",
       "             'monkey': 3,\n",
       "             'primat': 2,\n",
       "             'chimpanze': 2,\n",
       "             'ape': 2,\n",
       "             'view': 14,\n",
       "             'valley': 1,\n",
       "             'zion': 3,\n",
       "             'nation': 5,\n",
       "             'utah': 1,\n",
       "             'landscap': 31,\n",
       "             'tranquil': 5,\n",
       "             'stone': 6,\n",
       "             'wall': 18,\n",
       "             'art': 158,\n",
       "             'earth': 3,\n",
       "             'offic': 4,\n",
       "             'decor': 2,\n",
       "             'interior': 9,\n",
       "             'design': 9,\n",
       "             'sexi': 115,\n",
       "             'woman': 415,\n",
       "             'onli': 16,\n",
       "             'pant': 4,\n",
       "             'hot': 12,\n",
       "             'bodi': 72,\n",
       "             'light': 168,\n",
       "             'one': 96,\n",
       "             'alon': 50,\n",
       "             'adult': 95,\n",
       "             'color': 82,\n",
       "             'model': 266,\n",
       "             'pose': 52,\n",
       "             'stand': 23,\n",
       "             'even': 44,\n",
       "             'human': 52,\n",
       "             'fashion': 235,\n",
       "             'fit': 11,\n",
       "             'glamour': 46,\n",
       "             'attract': 71,\n",
       "             'women': 40,\n",
       "             'ladi': 52,\n",
       "             'sensual': 199,\n",
       "             'feminin': 12,\n",
       "             'lingeri': 21,\n",
       "             'sexual': 14,\n",
       "             'slim': 10,\n",
       "             'underwear': 9,\n",
       "             'breast': 14,\n",
       "             'seduct': 9,\n",
       "             'fetish': 5,\n",
       "             'allur': 17,\n",
       "             'xxx': 3,\n",
       "             'sensuou': 1,\n",
       "             'preschool': 8,\n",
       "             'cherri': 7,\n",
       "             'blossom': 11,\n",
       "             'garden': 28,\n",
       "             'hold': 28,\n",
       "             'vintag': 53,\n",
       "             'outfit': 18,\n",
       "             'happili': 2,\n",
       "             'spring': 20,\n",
       "             'concept': 30,\n",
       "             'fresh': 7,\n",
       "             'background': 106,\n",
       "             'camera': 23,\n",
       "             'pink': 17,\n",
       "             'male': 94,\n",
       "             'afternoon': 2,\n",
       "             'bright': 11,\n",
       "             'retro': 28,\n",
       "             'hat': 14,\n",
       "             'cheer': 26,\n",
       "             'shirt': 34,\n",
       "             'bloom': 8,\n",
       "             'posit': 25,\n",
       "             'cap': 5,\n",
       "             'suspend': 3,\n",
       "             'smart': 13,\n",
       "             'casual': 42,\n",
       "             'shadow': 28,\n",
       "             'vietnam': 1,\n",
       "             'leaf': 10,\n",
       "             'fallen': 2,\n",
       "             'dalat': 1,\n",
       "             'rubyqfotosfi': 1,\n",
       "             'rane': 1,\n",
       "             'stay': 32,\n",
       "             'rais': 49,\n",
       "             'hand': 128,\n",
       "             'sunset': 96,\n",
       "             'time': 42,\n",
       "             'sky': 52,\n",
       "             'blue': 66,\n",
       "             'day': 73,\n",
       "             'freedom': 15,\n",
       "             'teen': 18,\n",
       "             'reach': 10,\n",
       "             'success': 34,\n",
       "             'glori': 6,\n",
       "             'express': 160,\n",
       "             'arm': 26,\n",
       "             'passion': 39,\n",
       "             'pray': 20,\n",
       "             'worship': 16,\n",
       "             'man': 137,\n",
       "             'sitt': 2,\n",
       "             'sit': 34,\n",
       "             'sad': 146,\n",
       "             'lone': 36,\n",
       "             'horizont': 9,\n",
       "             'cloud': 42,\n",
       "             'copi': 28,\n",
       "             'space': 25,\n",
       "             'heaven': 5,\n",
       "             'medit': 8,\n",
       "             'religion': 12,\n",
       "             'come': 7,\n",
       "             'fur': 4,\n",
       "             'armchair': 3,\n",
       "             'leg': 5,\n",
       "             'old': 732,\n",
       "             'gorgeou': 26,\n",
       "             'night': 40,\n",
       "             'perfect': 207,\n",
       "             'chair': 10,\n",
       "             'vogu': 8,\n",
       "             'ancient': 15,\n",
       "             'brunett': 36,\n",
       "             'style': 87,\n",
       "             'make': 25,\n",
       "             'haircut': 2,\n",
       "             'belli': 3,\n",
       "             'bra': 5,\n",
       "             'erot': 14,\n",
       "             'stock': 26,\n",
       "             'pantyhos': 1,\n",
       "             'panti': 7,\n",
       "             'hosieri': 1,\n",
       "             'undercloth': 2,\n",
       "             'underlinen': 1,\n",
       "             'poppi': 3,\n",
       "             'dream': 57,\n",
       "             'red': 178,\n",
       "             'bed': 30,\n",
       "             'eleg': 51,\n",
       "             'nude': 67,\n",
       "             'desir': 4,\n",
       "             'skin': 33,\n",
       "             'temptat': 3,\n",
       "             'grumpi': 1,\n",
       "             'lazi': 1,\n",
       "             'nap': 2,\n",
       "             'babi': 27,\n",
       "             'peek': 1,\n",
       "             'boo': 1,\n",
       "             'cuddl': 10,\n",
       "             'kiss': 49,\n",
       "             'wed': 61,\n",
       "             'funni': 22,\n",
       "             'tuxedo': 20,\n",
       "             'marri': 30,\n",
       "             'amp': 126,\n",
       "             'dog': 5,\n",
       "             'fine': 52,\n",
       "             'mongoos': 2,\n",
       "             'peekaboo': 1,\n",
       "             'beach': 35,\n",
       "             'sealion': 2,\n",
       "             'img': 51,\n",
       "             'monochrom': 699,\n",
       "             'monoton': 3,\n",
       "             'pleasur': 10,\n",
       "             'laughter': 9,\n",
       "             'romanesqu': 9,\n",
       "             'monochromat': 4,\n",
       "             'faceless': 75,\n",
       "             'stranger': 60,\n",
       "             'autumn': 21,\n",
       "             'fall': 19,\n",
       "             'love': 137,\n",
       "             'outsid': 9,\n",
       "             'candid': 28,\n",
       "             'leav': 13,\n",
       "             'season': 10,\n",
       "             'foliag': 3,\n",
       "             'ladyautumn': 1,\n",
       "             'cri': 176,\n",
       "             'depress': 54,\n",
       "             'tear': 62,\n",
       "             'stain': 13,\n",
       "             'indoor': 49,\n",
       "             'unhappi': 27,\n",
       "             'miser': 23,\n",
       "             'copyspac': 11,\n",
       "             'solitud': 23,\n",
       "             'moodi': 26,\n",
       "             'upset': 25,\n",
       "             'mood': 100,\n",
       "             'feel': 98,\n",
       "             'loneli': 29,\n",
       "             'makeup': 109,\n",
       "             'frustrat': 29,\n",
       "             'mascara': 14,\n",
       "             'hurt': 21,\n",
       "             'pain': 29,\n",
       "             'grief': 23,\n",
       "             'despair': 33,\n",
       "             'sorrow': 27,\n",
       "             'miseri': 22,\n",
       "             'heartbroken': 13,\n",
       "             'dishevel': 12,\n",
       "             'distraught': 16,\n",
       "             'devast': 29,\n",
       "             'lovesick': 17,\n",
       "             'weep': 16,\n",
       "             'sob': 16,\n",
       "             'smear': 16,\n",
       "             'lovelorn': 12,\n",
       "             'smudgi': 15,\n",
       "             'teddi': 10,\n",
       "             'lori': 8,\n",
       "             'gonfiotti': 8,\n",
       "             'xxxlori': 1,\n",
       "             'sensit': 81,\n",
       "             'gilr': 21,\n",
       "             'babakfatholahi': 8,\n",
       "             'collarbon': 18,\n",
       "             'wetlook': 8,\n",
       "             'selfi': 65,\n",
       "             'fog': 8,\n",
       "             'dark': 208,\n",
       "             'street': 1135,\n",
       "             'urban': 10,\n",
       "             'citi': 650,\n",
       "             'transport': 4,\n",
       "             'system': 7,\n",
       "             'bridg': 12,\n",
       "             'cityscap': 5,\n",
       "             'foggi': 3,\n",
       "             'train': 4,\n",
       "             'townscap': 1,\n",
       "             'tube': 1,\n",
       "             'wait': 6,\n",
       "             'canon': 7,\n",
       "             'rain': 660,\n",
       "             'reflect': 12,\n",
       "             'headshot': 4,\n",
       "             'london': 4,\n",
       "             'portraitur': 668,\n",
       "             'car': 4,\n",
       "             'gloom': 1,\n",
       "             'raindrop': 3,\n",
       "             'lowkey': 56,\n",
       "             'ring': 3,\n",
       "             'selfportrait': 135,\n",
       "             'cinemat': 33,\n",
       "             'rainyday': 5,\n",
       "             'occas': 1,\n",
       "             'windowshot': 1,\n",
       "             'photo': 293,\n",
       "             'photographi': 95,\n",
       "             'orang': 13,\n",
       "             'dramat': 10,\n",
       "             'sigma': 3,\n",
       "             'cool': 27,\n",
       "             'dodgeandburn': 1,\n",
       "             'ton': 2,\n",
       "             'blondegirl': 1,\n",
       "             'marti': 2,\n",
       "             'soft': 22,\n",
       "             'touch': 27,\n",
       "             'pure': 7,\n",
       "             'sens': 3,\n",
       "             'undress': 15,\n",
       "             'melancholia': 24,\n",
       "             'shape': 9,\n",
       "             'wear': 48,\n",
       "             'silk': 2,\n",
       "             'secretari': 2,\n",
       "             'air': 7,\n",
       "             'hostess': 2,\n",
       "             'diplomat': 2,\n",
       "             'protocol': 2,\n",
       "             'uniform': 2,\n",
       "             'stewardess': 2,\n",
       "             'busi': 23,\n",
       "             'bag': 2,\n",
       "             'parti': 7,\n",
       "             'famili': 41,\n",
       "             'room': 30,\n",
       "             'wool': 2,\n",
       "             'cloth': 31,\n",
       "             'music': 10,\n",
       "             'stylish': 19,\n",
       "             'trend': 2,\n",
       "             'businesswoman': 1,\n",
       "             'accessori': 3,\n",
       "             'skinni': 3,\n",
       "             'figur': 28,\n",
       "             'ideal': 3,\n",
       "             'jewelri': 2,\n",
       "             'magazin': 3,\n",
       "             'actress': 24,\n",
       "             'code': 2,\n",
       "             'catalog': 2,\n",
       "             'coquett': 2,\n",
       "             'lie': 22,\n",
       "             'cup': 5,\n",
       "             'coffe': 9,\n",
       "             'tea': 8,\n",
       "             'morn': 14,\n",
       "             'break': 7,\n",
       "             'relax': 33,\n",
       "             'friendli': 8,\n",
       "             'laugh': 18,\n",
       "             'singl': 31,\n",
       "             'romant': 76,\n",
       "             'enjoy': 27,\n",
       "             'student': 15,\n",
       "             'tablet': 7,\n",
       "             'devic': 7,\n",
       "             'daydream': 11,\n",
       "             'bold': 1,\n",
       "             'itali': 6,\n",
       "             'curli': 15,\n",
       "             'tattoo': 24,\n",
       "             'italian': 3,\n",
       "             'aviano': 1,\n",
       "             'handsom': 53,\n",
       "             'guy': 9,\n",
       "             'waterfront': 3,\n",
       "             'hijab': 1,\n",
       "             'portr': 663,\n",
       "             'headscarf': 3,\n",
       "             'sare': 1,\n",
       "             'sedcard': 1,\n",
       "             'die': 8,\n",
       "             'versuchung': 1,\n",
       "             'cab': 1,\n",
       "             'highkey': 53,\n",
       "             'impli': 11,\n",
       "             'fotograf': 3,\n",
       "             'krak': 2,\n",
       "             'w': 3,\n",
       "             'phototroya': 2,\n",
       "             'studio': 73,\n",
       "             'photograph': 36,\n",
       "             'bedroom': 3,\n",
       "             'session': 6,\n",
       "             'nake': 31,\n",
       "             'portret': 1,\n",
       "             'boudoir': 8,\n",
       "             'cracow': 1,\n",
       "             'photomodel': 4,\n",
       "             'ringlight': 3,\n",
       "             'bielizna': 1,\n",
       "             'sesja': 2,\n",
       "             'treutler': 1,\n",
       "             'puja': 2,\n",
       "             'shoot': 27,\n",
       "             'affri': 2,\n",
       "             'selina': 1,\n",
       "             'selinapost': 1,\n",
       "             'process': 7,\n",
       "             'tutori': 1,\n",
       "             'pensiv': 12,\n",
       "             'mark': 2,\n",
       "             'iii': 2,\n",
       "             'america': 2,\n",
       "             'show': 5,\n",
       "             'vampir': 3,\n",
       "             'diari': 1,\n",
       "             'seller': 6,\n",
       "             'local': 6,\n",
       "             'market': 9,\n",
       "             'bangkok': 12,\n",
       "             'march': 5,\n",
       "             'chinatown': 9,\n",
       "             'popular': 6,\n",
       "             'tourist': 5,\n",
       "             'food': 17,\n",
       "             'fruit': 5,\n",
       "             'orient': 4,\n",
       "             'travel': 664,\n",
       "             'china': 4,\n",
       "             'town': 3,\n",
       "             'exot': 3,\n",
       "             'motion': 7,\n",
       "             'vibrant': 8,\n",
       "             'downtown': 3,\n",
       "             'shop': 9,\n",
       "             'vendor': 3,\n",
       "             'destin': 7,\n",
       "             'chines': 4,\n",
       "             'work': 8,\n",
       "             'apron': 2,\n",
       "             'trader': 6,\n",
       "             'buy': 3,\n",
       "             'district': 4,\n",
       "             'crowd': 3,\n",
       "             'sell': 3,\n",
       "             'veget': 3,\n",
       "             'stall': 3,\n",
       "             'groceri': 3,\n",
       "             'isol': 58,\n",
       "             'long': 20,\n",
       "             'chest': 2,\n",
       "             'pin': 1,\n",
       "             'hip': 1,\n",
       "             'moonlight': 3,\n",
       "             'diet': 1,\n",
       "             'mysteri': 12,\n",
       "             'thin': 5,\n",
       "             'glamor': 5,\n",
       "             'bikini': 5,\n",
       "             'curvi': 2,\n",
       "             'boob': 2,\n",
       "             'undi': 1,\n",
       "             'intim': 5,\n",
       "             'courtesan': 1,\n",
       "             'tempt': 1,\n",
       "             'prostitut': 1,\n",
       "             'entic': 1,\n",
       "             'whore': 1,\n",
       "             'sex': 4,\n",
       "             'minor': 1,\n",
       "             'book': 15,\n",
       "             'squar': 4,\n",
       "             'histor': 16,\n",
       "             'histori': 21,\n",
       "             'conceptu': 64,\n",
       "             'fineart': 3,\n",
       "             'fire': 8,\n",
       "             'pictori': 1,\n",
       "             'real': 7,\n",
       "             'coupl': 36,\n",
       "             'suit': 53,\n",
       "             'sigarett': 14,\n",
       "             'test': 60,\n",
       "             'omg': 3,\n",
       "             'extrem': 5,\n",
       "             'neon': 1,\n",
       "             'floresc': 1,\n",
       "             'marc': 2,\n",
       "             'wainwright': 2,\n",
       "             'bodypaint': 2,\n",
       "             'gasp': 1,\n",
       "             'imag': 29,\n",
       "             'paint': 14,\n",
       "             'hindi': 1,\n",
       "             'tranc': 3,\n",
       "             'hate': 8,\n",
       "             'honest': 1,\n",
       "             'facepaint': 4,\n",
       "             'veil': 26,\n",
       "             'gipsi': 9,\n",
       "             'shawl': 3,\n",
       "             'modesti': 1,\n",
       "             'bedouin': 2,\n",
       "             'burqa': 2,\n",
       "             'relationship': 16,\n",
       "             'coat': 1,\n",
       "             'mother': 12,\n",
       "             'bride': 18,\n",
       "             'riga': 3,\n",
       "             'warm': 9,\n",
       "             'latvia': 1,\n",
       "             'sun': 29,\n",
       "             'amaz': 14,\n",
       "             'river': 9,\n",
       "             'daugava': 1,\n",
       "             'sunroad': 1,\n",
       "             'atmospher': 5,\n",
       "             'window': 16,\n",
       "             'still': 4,\n",
       "             'hug': 7,\n",
       "             'mm': 17,\n",
       "             'thought': 21,\n",
       "             'bnw': 787,\n",
       "             'freckl': 10,\n",
       "             'hoodi': 21,\n",
       "             'streetstyl': 2,\n",
       "             'youth': 15,\n",
       "             'achiev': 11,\n",
       "             'teenag': 28,\n",
       "             'let': 6,\n",
       "             'jiri': 4,\n",
       "             'beard': 7,\n",
       "             'nepal': 2,\n",
       "             'self': 217,\n",
       "             'soul': 50,\n",
       "             'charisma': 20,\n",
       "             'darksid': 96,\n",
       "             'dolakha': 2,\n",
       "             'give': 3,\n",
       "             'proof': 2,\n",
       "             'focu': 3,\n",
       "             'gift': 1,\n",
       "             'creativ': 19,\n",
       "             'uniqu': 7,\n",
       "             'charm': 14,\n",
       "             'select': 3,\n",
       "             'romanc': 13,\n",
       "             'receiv': 1,\n",
       "             'date': 11,\n",
       "             'valentin': 2,\n",
       "             'surpris': 13,\n",
       "             'flirt': 1,\n",
       "             'evid': 1,\n",
       "             'hi': 10,\n",
       "             'mouth': 7,\n",
       "             'open': 12,\n",
       "             'wonder': 2,\n",
       "             'preciou': 1,\n",
       "             'scream': 20,\n",
       "             'shock': 2,\n",
       "             'artist': 19,\n",
       "             'drawer': 1,\n",
       "             'right': 7,\n",
       "             'resrev': 1,\n",
       "             'moham': 2,\n",
       "             'rezaiguia': 1,\n",
       "             'blackandwhit': 644,\n",
       "             'eo': 2,\n",
       "             'silenc': 4,\n",
       "             'algeria': 1,\n",
       "             'hollywood': 1,\n",
       "             'mobil': 9,\n",
       "             'phone': 19,\n",
       "             'lip': 57,\n",
       "             'suck': 3,\n",
       "             'thumb': 4,\n",
       "             'social': 10,\n",
       "             'network': 2,\n",
       "             'technolog': 43,\n",
       "             'bring': 3,\n",
       "             'togeth': 18,\n",
       "             'interest': 14,\n",
       "             'telephon': 2,\n",
       "             'connect': 8,\n",
       "             'finger': 6,\n",
       "             'internet': 6,\n",
       "             'symbol': 3,\n",
       "             'app': 2,\n",
       "             'arous': 1,\n",
       "             'match': 3,\n",
       "             'hook': 1,\n",
       "             'untitl': 94,\n",
       "             'jpg': 26,\n",
       "             'boredom': 1,\n",
       "             'cousin': 2,\n",
       "             'wa': 21,\n",
       "             'home': 19,\n",
       "             'school': 16,\n",
       "             'kinda': 1,\n",
       "             'bore': 2,\n",
       "             'junior': 1,\n",
       "             'toddler': 9,\n",
       "             'usa': 1,\n",
       "             'nyc': 3,\n",
       "             'unit': 1,\n",
       "             'state': 1,\n",
       "             'jacket': 13,\n",
       "             'arab': 3,\n",
       "             'mom': 4,\n",
       "             'jordan': 3,\n",
       "             'amman': 1,\n",
       "             'palestin': 2,\n",
       "             'arizona': 1,\n",
       "             'tucson': 1,\n",
       "             'olymp': 1,\n",
       "             'team': 4,\n",
       "             'hope': 9,\n",
       "             'triumph': 1,\n",
       "             'izmir': 734,\n",
       "             'bilmem': 1,\n",
       "             'ka': 1,\n",
       "             'nc': 1,\n",
       "             'geleneksel': 1,\n",
       "             'havuzlar': 1,\n",
       "             'artistik': 1,\n",
       "             'zme': 1,\n",
       "             'ampiyona': 1,\n",
       "             'streetphotographi': 797,\n",
       "             'via': 640,\n",
       "             'instagram': 1265,\n",
       "             'turkey': 634,\n",
       "             'ifttt': 635,\n",
       "             'turkiy': 631,\n",
       "             'diyarbak': 631,\n",
       "             'r': 655,\n",
       "             'siyahbeyaz': 830,\n",
       "             'antalya': 630,\n",
       "             'mardin': 630,\n",
       "             'emoji': 5,\n",
       "             'head': 22,\n",
       "             'excit': 10,\n",
       "             'smartphon': 4,\n",
       "             'celebr': 6,\n",
       "             'victori': 1,\n",
       "             'text': 7,\n",
       "             'use': 5,\n",
       "             'talk': 5,\n",
       "             'commun': 8,\n",
       "             'modern': 20,\n",
       "             'businessman': 2,\n",
       "             'cellphon': 4,\n",
       "             'cell': 1,\n",
       "             'emoticon': 2,\n",
       "             'abus': 14,\n",
       "             'cover': 17,\n",
       "             'issu': 8,\n",
       "             'angri': 14,\n",
       "             'scare': 7,\n",
       "             'fear': 7,\n",
       "             'infant': 2,\n",
       "             'broken': 8,\n",
       "             'stress': 45,\n",
       "             'suffer': 12,\n",
       "             'kindergarten': 4,\n",
       "             'homeless': 8,\n",
       "             'problem': 10,\n",
       "             'frighten': 2,\n",
       "             'afraid': 3,\n",
       "             'victim': 4,\n",
       "             'trauma': 2,\n",
       "             'shame': 12,\n",
       "             'embarrass': 1,\n",
       "             'nikon': 19,\n",
       "             'think': 25,\n",
       "             'kill': 2,\n",
       "             'nikond': 1,\n",
       "             'perform': 9,\n",
       "             'actor': 3,\n",
       "             'gypsi': 3,\n",
       "             'beggar': 4,\n",
       "             'geisha': 1,\n",
       "             'agoni': 8,\n",
       "             'refuge': 2,\n",
       "             'carniv': 3,\n",
       "             'mask': 7,\n",
       "             'holiday': 5,\n",
       "             'comedi': 1,\n",
       "             'power': 10,\n",
       "             'ball': 2,\n",
       "             'men': 3,\n",
       "             'vacat': 6,\n",
       "             'costum': 17,\n",
       "             'stage': 6,\n",
       "             'theater': 16,\n",
       "             'circu': 3,\n",
       "             'inspir': 19,\n",
       "             'taboo': 2,\n",
       "             'stori': 28,\n",
       "             'softlight': 8,\n",
       "             'storytel': 3,\n",
       "             'homestudio': 3,\n",
       "             'darkroom': 16,\n",
       "             'ashtray': 1,\n",
       "             'vibe': 2,\n",
       "             'arriv': 1,\n",
       "             'sunni': 8,\n",
       "             'calm': 7,\n",
       "             'golden': 4,\n",
       "             'hour': 9,\n",
       "             'peac': 10,\n",
       "             'seren': 7,\n",
       "             'sunshin': 5,\n",
       "             'lakesid': 5,\n",
       "             'cigarett': 13,\n",
       "             'cigarrett': 2,\n",
       "             'cigaret': 2,\n",
       "             'batak': 1,\n",
       "             'demand': 40,\n",
       "             'flair': 31,\n",
       "             'bw': 220,\n",
       "             'club': 141,\n",
       "             'amateur': 29,\n",
       "             'pocket': 27,\n",
       "             'rose': 31,\n",
       "             'divin': 25,\n",
       "             'miss': 19,\n",
       "             'forest': 10,\n",
       "             'yard': 1,\n",
       "             'site': 1,\n",
       "             'farm': 2,\n",
       "             'four': 9,\n",
       "             'wheat': 12,\n",
       "             'macro': 5,\n",
       "             'simpl': 3,\n",
       "             'knife': 1,\n",
       "             'gansta': 1,\n",
       "             'gangster': 1,\n",
       "             'dagger': 1,\n",
       "             'super': 1,\n",
       "             'bandw': 3,\n",
       "             'dusk': 2,\n",
       "             'lowlight': 3,\n",
       "             'close': 34,\n",
       "             'sidefac': 1,\n",
       "             'protect': 5,\n",
       "             'tatoo': 29,\n",
       "             'drop': 4,\n",
       "             'moss': 6,\n",
       "             'shallow': 2,\n",
       "             'nobodi': 4,\n",
       "             'wet': 4,\n",
       "             'plant': 4,\n",
       "             'wood': 7,\n",
       "             'environ': 12,\n",
       "             'bark': 1,\n",
       "             'puriti': 2,\n",
       "             'abstract': 18,\n",
       "             'trunk': 1,\n",
       "             'pacif': 2,\n",
       "             'composit': 3,\n",
       "             'oil': 2,\n",
       "             'environment': 2,\n",
       "             'stream': 2,\n",
       "             'rainforest': 1,\n",
       "             'idea': 2,\n",
       "             'draw': 4,\n",
       "             'graphic': 2,\n",
       "             'sketch': 2,\n",
       "             'botani': 1,\n",
       "             'gouach': 2,\n",
       "             'ecosystem': 2,\n",
       "             'lichen': 1,\n",
       "             'supremac': 1,\n",
       "             'way': 9,\n",
       "             'dure': 6,\n",
       "             'yellow': 12,\n",
       "             'bokeh': 10,\n",
       "             'digit': 21,\n",
       "             'sunlight': 10,\n",
       "             'sundown': 7,\n",
       "             'len': 2,\n",
       "             'flare': 3,\n",
       "             'morbiddaisi': 2,\n",
       "             'julia': 3,\n",
       "             'yuriovna': 2,\n",
       "             'nois': 2,\n",
       "             'pleas': 18,\n",
       "             'bear': 6,\n",
       "             'build': 3,\n",
       "             'profil': 3,\n",
       "             'vignett': 1,\n",
       "             'grain': 4,\n",
       "             'manipul': 3,\n",
       "             'photoshop': 2,\n",
       "             'chiaroscuro': 1,\n",
       "             'static': 1,\n",
       "             'high': 13,\n",
       "             'iso': 1,\n",
       "             'pvri': 1,\n",
       "             'winter': 7,\n",
       "             'franc': 4,\n",
       "             'smoke': 8,\n",
       "             'pari': 5,\n",
       "             'lit': 3,\n",
       "             'candl': 3,\n",
       "             'crucifix': 3,\n",
       "             'cross': 10,\n",
       "             'strength': 6,\n",
       "             'father': 8,\n",
       "             'believ': 3,\n",
       "             'jesu': 1,\n",
       "             'god': 4,\n",
       "             'church': 2,\n",
       "             'deep': 25,\n",
       "             'sunday': 1,\n",
       "             'faith': 2,\n",
       "             'belief': 2,\n",
       "             'flame': 4,\n",
       "             'confess': 1,\n",
       "             'religi': 3,\n",
       "             'ceremoni': 3,\n",
       "             'bibl': 1,\n",
       "             'prayer': 2,\n",
       "             'spirit': 4,\n",
       "             'holi': 1,\n",
       "             'cathol': 1,\n",
       "             'christian': 2,\n",
       "             'necklac': 2,\n",
       "             'catholic': 1,\n",
       "             'baptism': 1,\n",
       "             'sin': 2,\n",
       "             'lord': 1,\n",
       "             'rosari': 1,\n",
       "             'crucifixion': 1,\n",
       "             'forgiv': 2,\n",
       "             'communion': 1,\n",
       "             'enlighten': 1,\n",
       "             'savior': 1,\n",
       "             'messiah': 1,\n",
       "             'anna': 3,\n",
       "             'lun': 1,\n",
       "             'nice': 16,\n",
       "             'edgi': 9,\n",
       "             'cheekbon': 26,\n",
       "             'dsc': 43,\n",
       "             'desper': 36,\n",
       "             'seminud': 6,\n",
       "             'striplight': 8,\n",
       "             'olympu': 10,\n",
       "             'fold': 3,\n",
       "             'priest': 2,\n",
       "             'nearli': 1,\n",
       "             'cant': 2,\n",
       "             'see': 8,\n",
       "             'izmirli': 1,\n",
       "             'microphon': 3,\n",
       "             'big': 4,\n",
       "             'confer': 2,\n",
       "             'hall': 1,\n",
       "             'numer': 1,\n",
       "             'perspect': 4,\n",
       "             'meet': 5,\n",
       "             'anticip': 1,\n",
       "             'equip': 35,\n",
       "             'public': 5,\n",
       "             'audienc': 1,\n",
       "             'corridor': 1,\n",
       "             'educ': 3,\n",
       "             'inform': 1,\n",
       "             'row': 4,\n",
       "             'sound': 2,\n",
       "             'medium': 1,\n",
       "             'classroom': 1,\n",
       "             'seminar': 1,\n",
       "             'media': 1,\n",
       "             'journalist': 1,\n",
       "             'speech': 1,\n",
       "             'present': 3,\n",
       "             'lectur': 1,\n",
       "             'speaker': 1,\n",
       "             'voic': 2,\n",
       "             'auditorium': 1,\n",
       "             'award': 3,\n",
       "             'podium': 1,\n",
       "             'call': 4,\n",
       "             'glass': 5,\n",
       "             'activ': 5,\n",
       "             'someon': 2,\n",
       "             'shout': 6,\n",
       "             'gossip': 1,\n",
       "             'difficulti': 4,\n",
       "             'conflict': 2,\n",
       "             'anger': 9,\n",
       "             'irrit': 1,\n",
       "             'furiou': 3,\n",
       "             'displeas': 1,\n",
       "             'neg': 9,\n",
       "             'care': 57,\n",
       "             'pet': 8,\n",
       "             'goat': 2,\n",
       "             'therapi': 3,\n",
       "             'empathi': 2,\n",
       "             'autism': 1,\n",
       "             'mental': 1,\n",
       "             'autist': 1,\n",
       "             'form': 1,\n",
       "             'gentl': 5,\n",
       "             'profession': 9,\n",
       "             'contemporari': 8,\n",
       "             'desktop': 2,\n",
       "             'nutrit': 2,\n",
       "             'eyelash': 1,\n",
       "             'gloss': 1,\n",
       "             'roug': 1,\n",
       "             'shoulder': 5,\n",
       "             'manicur': 2,\n",
       "             'intellig': 2,\n",
       "             'ladylik': 3,\n",
       "             'shi': 3,\n",
       "             'timid': 1,\n",
       "             'neck': 1,\n",
       "             'groom': 12,\n",
       "             'clock': 4,\n",
       "             'clavicl': 1,\n",
       "             'affianc': 1,\n",
       "             'lizard': 4,\n",
       "             'log': 2,\n",
       "             'ha': 5,\n",
       "             'rest': 4,\n",
       "             'paper': 3,\n",
       "             'ecolog': 3,\n",
       "             'scale': 15,\n",
       "             'insectivor': 1,\n",
       "             'kowtow': 1,\n",
       "             'low': 51,\n",
       "             'key': 55,\n",
       "             'evil': 2,\n",
       "             'tropic': 6,\n",
       "             'autoportrait': 9,\n",
       "             'pastel': 4,\n",
       "             'floral': 3,\n",
       "             'violet': 1,\n",
       "             'botan': 9,\n",
       "             'petal': 4,\n",
       "             'magnolia': 1,\n",
       "             'drama': 25,\n",
       "             'rosa': 1,\n",
       "             'herbal': 1,\n",
       "             'bud': 1,\n",
       "             'suicid': 8,\n",
       "             'abduct': 2,\n",
       "             'road': 18,\n",
       "             'taiwan': 1,\n",
       "             'taipei': 1,\n",
       "             'silhouett': 15,\n",
       "             'twilight': 7,\n",
       "             'daisi': 3,\n",
       "             'vscocam': 4,\n",
       "             'preset': 5,\n",
       "             'vsco': 5,\n",
       "             'blackndwhit': 1,\n",
       "             'innoc': 23,\n",
       "             'bare': 7,\n",
       "             'caress': 2,\n",
       "             ...})"
      ]
     },
     "execution_count": 122,
     "metadata": {},
     "output_type": "execute_result"
    }
   ],
   "source": [
    "_0_unigrams"
   ]
  },
  {
   "cell_type": "code",
   "execution_count": 123,
   "metadata": {},
   "outputs": [
    {
     "data": {
      "text/plain": [
       "[('emot', 1823),\n",
       " ('white', 993),\n",
       " ('black', 975),\n",
       " ('portrait', 830),\n",
       " ('beauti', 784),\n",
       " ('model', 638),\n",
       " ('girl', 541),\n",
       " ('light', 460),\n",
       " ('woman', 382),\n",
       " ('fashion', 369)]"
      ]
     },
     "execution_count": 123,
     "metadata": {},
     "output_type": "execute_result"
    }
   ],
   "source": [
    "sorted(_5_unigrams.items() , key = lambda x: x[1] , reverse = True)[:10]"
   ]
  },
  {
   "cell_type": "code",
   "execution_count": 124,
   "metadata": {},
   "outputs": [],
   "source": [
    "df_0_unigrams = pd.DataFrame(sorted(_0_unigrams.items() , key = lambda x : x[1] , reverse = True))\n",
    "df_1_unigrams = pd.DataFrame(sorted(_1_unigrams.items() , key = lambda x : x[1] , reverse = True))\n",
    "df_2_unigrams = pd.DataFrame(sorted(_2_unigrams.items() , key = lambda x : x[1] , reverse = True))\n",
    "df_3_unigrams = pd.DataFrame(sorted(_3_unigrams.items() , key = lambda x : x[1] , reverse = True))\n",
    "df_4_unigrams = pd.DataFrame(sorted(_4_unigrams.items() , key = lambda x : x[1] , reverse = True))\n",
    "df_5_unigrams = pd.DataFrame(sorted(_5_unigrams.items() , key = lambda x : x[1] , reverse = True))\n",
    "df_6_unigrams = pd.DataFrame(sorted(_6_unigrams.items() , key = lambda x : x[1] , reverse = True))\n",
    "df_7_unigrams = pd.DataFrame(sorted(_7_unigrams.items() , key = lambda x : x[1] , reverse = True))\n",
    "df_8_unigrams = pd.DataFrame(sorted(_8_unigrams.items() , key = lambda x : x[1] , reverse = True))\n",
    "df_9_unigrams = pd.DataFrame(sorted(_9_unigrams.items() , key = lambda x : x[1] , reverse = True))\n",
    "df_10_unigrams = pd.DataFrame(sorted(_10_unigrams.items() , key = lambda x : x[1] , reverse = True))\n",
    "df_11_unigrams = pd.DataFrame(sorted(_11_unigrams.items() , key = lambda x : x[1] , reverse = True))\n",
    "df_12_unigrams = pd.DataFrame(sorted(_12_unigrams.items() , key = lambda x : x[1] , reverse = True))\n",
    "df_13_unigrams = pd.DataFrame(sorted(_13_unigrams.items() , key = lambda x : x[1] , reverse = True))\n",
    "df_14_unigrams = pd.DataFrame(sorted(_14_unigrams.items() , key = lambda x : x[1] , reverse = True))\n",
    "df_15_unigrams = pd.DataFrame(sorted(_15_unigrams.items() , key = lambda x : x[1] , reverse = True))\n",
    "df_16_unigrams = pd.DataFrame(sorted(_16_unigrams.items() , key = lambda x : x[1] , reverse = True))\n",
    "df_17_unigrams = pd.DataFrame(sorted(_17_unigrams.items() , key = lambda x : x[1] , reverse = True))\n",
    "df_18_unigrams = pd.DataFrame(sorted(_18_unigrams.items() , key = lambda x : x[1] , reverse = True))\n",
    "df_19_unigrams = pd.DataFrame(sorted(_19_unigrams.items() , key = lambda x : x[1] , reverse = True))\n",
    "df_20_unigrams = pd.DataFrame(sorted(_20_unigrams.items() , key = lambda x : x[1] , reverse = True))\n",
    "df_21_unigrams = pd.DataFrame(sorted(_21_unigrams.items() , key = lambda x : x[1] , reverse = True))\n",
    "df_22_unigrams = pd.DataFrame(sorted(_22_unigrams.items() , key = lambda x : x[1] , reverse = True))\n",
    "df_23_unigrams = pd.DataFrame(sorted(_23_unigrams.items() , key = lambda x : x[1] , reverse = True))\n",
    "df_24_unigrams = pd.DataFrame(sorted(_24_unigrams.items() , key = lambda x : x[1] , reverse = True))\n",
    "df_25_unigrams = pd.DataFrame(sorted(_25_unigrams.items() , key = lambda x : x[1] , reverse = True))\n",
    "df_26_unigrams = pd.DataFrame(sorted(_26_unigrams.items() , key = lambda x : x[1] , reverse = True))\n",
    "df_27_unigrams = pd.DataFrame(sorted(_27_unigrams.items() , key = lambda x : x[1] , reverse = True))\n",
    "df_28_unigrams = pd.DataFrame(sorted(_28_unigrams.items() , key = lambda x : x[1] , reverse = True))\n",
    "df_29_unigrams = pd.DataFrame(sorted(_29_unigrams.items() , key = lambda x : x[1] , reverse = True))\n",
    "df_30_unigrams = pd.DataFrame(sorted(_30_unigrams.items() , key = lambda x : x[1] , reverse = True))"
   ]
  },
  {
   "cell_type": "code",
   "execution_count": 125,
   "metadata": {},
   "outputs": [
    {
     "data": {
      "text/html": [
       "<div>\n",
       "<style scoped>\n",
       "    .dataframe tbody tr th:only-of-type {\n",
       "        vertical-align: middle;\n",
       "    }\n",
       "\n",
       "    .dataframe tbody tr th {\n",
       "        vertical-align: top;\n",
       "    }\n",
       "\n",
       "    .dataframe thead th {\n",
       "        text-align: right;\n",
       "    }\n",
       "</style>\n",
       "<table border=\"1\" class=\"dataframe\">\n",
       "  <thead>\n",
       "    <tr style=\"text-align: right;\">\n",
       "      <th></th>\n",
       "      <th>0</th>\n",
       "      <th>1</th>\n",
       "    </tr>\n",
       "  </thead>\n",
       "  <tbody>\n",
       "    <tr>\n",
       "      <th>0</th>\n",
       "      <td>emot</td>\n",
       "      <td>1787</td>\n",
       "    </tr>\n",
       "    <tr>\n",
       "      <th>1</th>\n",
       "      <td>instagram</td>\n",
       "      <td>1265</td>\n",
       "    </tr>\n",
       "    <tr>\n",
       "      <th>2</th>\n",
       "      <td>portrait</td>\n",
       "      <td>1235</td>\n",
       "    </tr>\n",
       "    <tr>\n",
       "      <th>3</th>\n",
       "      <td>street</td>\n",
       "      <td>1135</td>\n",
       "    </tr>\n",
       "    <tr>\n",
       "      <th>4</th>\n",
       "      <td>white</td>\n",
       "      <td>1067</td>\n",
       "    </tr>\n",
       "    <tr>\n",
       "      <th>5</th>\n",
       "      <td>black</td>\n",
       "      <td>935</td>\n",
       "    </tr>\n",
       "    <tr>\n",
       "      <th>6</th>\n",
       "      <td>siyahbeyaz</td>\n",
       "      <td>830</td>\n",
       "    </tr>\n",
       "    <tr>\n",
       "      <th>7</th>\n",
       "      <td>streetphotographi</td>\n",
       "      <td>797</td>\n",
       "    </tr>\n",
       "    <tr>\n",
       "      <th>8</th>\n",
       "      <td>bnw</td>\n",
       "      <td>787</td>\n",
       "    </tr>\n",
       "    <tr>\n",
       "      <th>9</th>\n",
       "      <td>izmir</td>\n",
       "      <td>734</td>\n",
       "    </tr>\n",
       "  </tbody>\n",
       "</table>\n",
       "</div>"
      ],
      "text/plain": [
       "                   0     1\n",
       "0               emot  1787\n",
       "1          instagram  1265\n",
       "2           portrait  1235\n",
       "3             street  1135\n",
       "4              white  1067\n",
       "5              black   935\n",
       "6         siyahbeyaz   830\n",
       "7  streetphotographi   797\n",
       "8                bnw   787\n",
       "9              izmir   734"
      ]
     },
     "execution_count": 125,
     "metadata": {},
     "output_type": "execute_result"
    }
   ],
   "source": [
    "df_0_unigrams.head(10)"
   ]
  },
  {
   "cell_type": "markdown",
   "metadata": {},
   "source": [
    "### Category 0"
   ]
  },
  {
   "cell_type": "code",
   "execution_count": 126,
   "metadata": {},
   "outputs": [
    {
     "data": {
      "image/png": "[encoded data removed]",
      "text/plain": [
       "<Figure size 1152x216 with 1 Axes>"
      ]
     },
     "metadata": {},
     "output_type": "display_data"
    }
   ],
   "source": [
    "d0_1 = df_0_unigrams[0][:10]\n",
    "d0_2 = df_0_unigrams[1][:10]\n",
    "\n",
    "plt.figure( figsize = (16 , 3))\n",
    "_ = plt.bar(d0_1 , d0_2)"
   ]
  },
  {
   "cell_type": "markdown",
   "metadata": {},
   "source": [
    "### Category 1"
   ]
  },
  {
   "cell_type": "code",
   "execution_count": 127,
   "metadata": {},
   "outputs": [
    {
     "data": {
      "image/png": "[encoded data removed]",
      "text/plain": [
       "<Figure size 1152x216 with 1 Axes>"
      ]
     },
     "metadata": {},
     "output_type": "display_data"
    }
   ],
   "source": [
    "d1_1 = df_1_unigrams[0][:10]\n",
    "d1_2 = df_1_unigrams[1][:10]\n",
    "\n",
    "plt.figure(figsize = (16 , 3))\n",
    "_ = plt.bar(d1_1 , d1_2)"
   ]
  },
  {
   "cell_type": "markdown",
   "metadata": {},
   "source": [
    "### Category 2"
   ]
  },
  {
   "cell_type": "code",
   "execution_count": 128,
   "metadata": {},
   "outputs": [
    {
     "data": {
      "image/png": "[encoded data removed]",
      "text/plain": [
       "<Figure size 1152x216 with 1 Axes>"
      ]
     },
     "metadata": {},
     "output_type": "display_data"
    }
   ],
   "source": [
    "d2_1 = df_2_unigrams[0][:10]\n",
    "d2_2 = df_2_unigrams[1][:10]\n",
    "\n",
    "plt.figure(figsize = (16 , 3))\n",
    "_ = plt.bar(d2_1 , d2_2)"
   ]
  },
  {
   "cell_type": "markdown",
   "metadata": {},
   "source": [
    "### Category 3"
   ]
  },
  {
   "cell_type": "code",
   "execution_count": 129,
   "metadata": {},
   "outputs": [
    {
     "data": {
      "image/png": "[encoded data removed]",
      "text/plain": [
       "<Figure size 1152x216 with 1 Axes>"
      ]
     },
     "metadata": {},
     "output_type": "display_data"
    }
   ],
   "source": [
    "d3_1 = df_3_unigrams[0][:10]\n",
    "d3_2 = df_3_unigrams[1][:10]\n",
    "\n",
    "plt.figure( figsize = (16 , 3))\n",
    "_ = plt.bar(d3_1 , d3_2)"
   ]
  },
  {
   "cell_type": "markdown",
   "metadata": {},
   "source": [
    "### Category 4"
   ]
  },
  {
   "cell_type": "code",
   "execution_count": 130,
   "metadata": {},
   "outputs": [
    {
     "data": {
      "image/png": "[encoded data removed]",
      "text/plain": [
       "<Figure size 1152x216 with 1 Axes>"
      ]
     },
     "metadata": {},
     "output_type": "display_data"
    }
   ],
   "source": [
    "d4_1 = df_4_unigrams[0][:10]\n",
    "d4_2 = df_4_unigrams[1][:10]\n",
    "\n",
    "plt.figure( figsize = (16 , 3))\n",
    "_ = plt.bar(d4_1 , d4_2)"
   ]
  },
  {
   "cell_type": "markdown",
   "metadata": {},
   "source": [
    "### Category 5"
   ]
  },
  {
   "cell_type": "code",
   "execution_count": 131,
   "metadata": {},
   "outputs": [
    {
     "data": {
      "image/png": "[encoded data removed]",
      "text/plain": [
       "<Figure size 1152x216 with 1 Axes>"
      ]
     },
     "metadata": {},
     "output_type": "display_data"
    }
   ],
   "source": [
    "d5_1 = df_5_unigrams[0][:10]\n",
    "d5_2 = df_5_unigrams[1][:10]\n",
    "\n",
    "plt.figure( figsize = (16 , 3))\n",
    "_ = plt.bar(d5_1 , d5_2)"
   ]
  },
  {
   "cell_type": "markdown",
   "metadata": {},
   "source": [
    "### Category 6"
   ]
  },
  {
   "cell_type": "code",
   "execution_count": 132,
   "metadata": {},
   "outputs": [
    {
     "data": {
      "image/png": "[encoded data removed]",
      "text/plain": [
       "<Figure size 1152x216 with 1 Axes>"
      ]
     },
     "metadata": {},
     "output_type": "display_data"
    }
   ],
   "source": [
    "d6_1 = df_6_unigrams[0][:10]\n",
    "d6_2 = df_6_unigrams[1][:10]\n",
    "\n",
    "plt.figure( figsize = (16 , 3))\n",
    "_ = plt.bar(d6_1 , d6_2)"
   ]
  },
  {
   "cell_type": "markdown",
   "metadata": {},
   "source": [
    "### Category 7"
   ]
  },
  {
   "cell_type": "code",
   "execution_count": 133,
   "metadata": {},
   "outputs": [
    {
     "data": {
      "image/png": "[encoded data removed]",
      "text/plain": [
       "<Figure size 1152x216 with 1 Axes>"
      ]
     },
     "metadata": {},
     "output_type": "display_data"
    }
   ],
   "source": [
    "d7_1 = df_7_unigrams[0][:10]\n",
    "d7_2 = df_7_unigrams[1][:10]\n",
    "\n",
    "plt.figure( figsize = (16 , 3))\n",
    "_ = plt.bar(d7_1 , d7_2)"
   ]
  },
  {
   "cell_type": "markdown",
   "metadata": {},
   "source": [
    "### Category 8"
   ]
  },
  {
   "cell_type": "code",
   "execution_count": 134,
   "metadata": {},
   "outputs": [
    {
     "data": {
      "image/png": "[encoded data removed]",
      "text/plain": [
       "<Figure size 1152x216 with 1 Axes>"
      ]
     },
     "metadata": {},
     "output_type": "display_data"
    }
   ],
   "source": [
    "d8_1 = df_8_unigrams[0][:10]\n",
    "d8_2 = df_8_unigrams[1][:10]\n",
    "\n",
    "plt.figure( figsize = (16 , 3))\n",
    "_ = plt.bar(d8_1 , d8_2)"
   ]
  },
  {
   "cell_type": "markdown",
   "metadata": {},
   "source": [
    "### Category 9"
   ]
  },
  {
   "cell_type": "code",
   "execution_count": 135,
   "metadata": {},
   "outputs": [
    {
     "data": {
      "image/png": "[encoded data removed]",
      "text/plain": [
       "<Figure size 1152x216 with 1 Axes>"
      ]
     },
     "metadata": {},
     "output_type": "display_data"
    }
   ],
   "source": [
    "d9_1 = df_9_unigrams[0][:10]\n",
    "d9_2 = df_9_unigrams[1][:10]\n",
    "\n",
    "plt.figure( figsize = (16 , 3))\n",
    "_ = plt.bar(d9_1 , d9_2)"
   ]
  },
  {
   "cell_type": "markdown",
   "metadata": {},
   "source": [
    "### Category 10"
   ]
  },
  {
   "cell_type": "code",
   "execution_count": 136,
   "metadata": {},
   "outputs": [
    {
     "data": {
      "image/png": "[encoded data removed]",
      "text/plain": [
       "<Figure size 1152x216 with 1 Axes>"
      ]
     },
     "metadata": {},
     "output_type": "display_data"
    }
   ],
   "source": [
    "d10_1 = df_10_unigrams[0][:10]\n",
    "d10_2 = df_10_unigrams[1][:10]\n",
    "\n",
    "plt.figure( figsize = (16 , 3))\n",
    "_ = plt.bar(d10_1 , d10_2)"
   ]
  },
  {
   "cell_type": "markdown",
   "metadata": {},
   "source": [
    "### Category 11"
   ]
  },
  {
   "cell_type": "code",
   "execution_count": 137,
   "metadata": {},
   "outputs": [
    {
     "data": {
      "image/png": "[encoded data removed]",
      "text/plain": [
       "<Figure size 1152x216 with 1 Axes>"
      ]
     },
     "metadata": {},
     "output_type": "display_data"
    }
   ],
   "source": [
    "d11_1 = df_11_unigrams[0][:10]\n",
    "d11_2 = df_11_unigrams[1][:10]\n",
    "\n",
    "plt.figure( figsize = (16 , 3))\n",
    "_ = plt.bar(d11_1 , d11_2)"
   ]
  },
  {
   "cell_type": "markdown",
   "metadata": {},
   "source": [
    "### Category 12"
   ]
  },
  {
   "cell_type": "code",
   "execution_count": 138,
   "metadata": {},
   "outputs": [
    {
     "data": {
      "image/png": "[encoded data removed]",
      "text/plain": [
       "<Figure size 1152x216 with 1 Axes>"
      ]
     },
     "metadata": {},
     "output_type": "display_data"
    }
   ],
   "source": [
    "d12_1 = df_12_unigrams[0][:10]\n",
    "d12_2 = df_12_unigrams[1][:10]\n",
    "\n",
    "plt.figure( figsize = (16 , 3))\n",
    "_ = plt.bar(d12_1 , d12_2)"
   ]
  },
  {
   "cell_type": "markdown",
   "metadata": {},
   "source": [
    "### Category 13"
   ]
  },
  {
   "cell_type": "code",
   "execution_count": 139,
   "metadata": {},
   "outputs": [
    {
     "data": {
      "image/png": "[encoded data removed]",
      "text/plain": [
       "<Figure size 1152x216 with 1 Axes>"
      ]
     },
     "metadata": {},
     "output_type": "display_data"
    }
   ],
   "source": [
    "d13_1 = df_13_unigrams[0][:10]\n",
    "d13_2 = df_13_unigrams[1][:10]\n",
    "\n",
    "plt.figure( figsize = (16 , 3))\n",
    "_ = plt.bar(d13_1 , d13_2)"
   ]
  },
  {
   "cell_type": "markdown",
   "metadata": {},
   "source": [
    "### Category 14"
   ]
  },
  {
   "cell_type": "code",
   "execution_count": 140,
   "metadata": {},
   "outputs": [
    {
     "data": {
      "image/png": "[encoded data removed]",
      "text/plain": [
       "<Figure size 1152x216 with 1 Axes>"
      ]
     },
     "metadata": {},
     "output_type": "display_data"
    }
   ],
   "source": [
    "d14_1 = df_14_unigrams[0][:10]\n",
    "d14_2 = df_14_unigrams[1][:10]\n",
    "\n",
    "plt.figure( figsize = (16 , 3))\n",
    "_ = plt.bar(d14_1 , d14_2)"
   ]
  },
  {
   "cell_type": "markdown",
   "metadata": {},
   "source": [
    "### Category 15"
   ]
  },
  {
   "cell_type": "code",
   "execution_count": 141,
   "metadata": {},
   "outputs": [
    {
     "data": {
      "image/png": "[encoded data removed]",
      "text/plain": [
       "<Figure size 1152x216 with 1 Axes>"
      ]
     },
     "metadata": {},
     "output_type": "display_data"
    }
   ],
   "source": [
    "d15_1 = df_0_unigrams[0][:10]\n",
    "d15_2 = df_0_unigrams[1][:10]\n",
    "\n",
    "plt.figure( figsize = (16 , 3))\n",
    "_ = plt.bar(d15_1 , d15_2)"
   ]
  },
  {
   "cell_type": "markdown",
   "metadata": {},
   "source": [
    "### Category 16"
   ]
  },
  {
   "cell_type": "code",
   "execution_count": 142,
   "metadata": {},
   "outputs": [
    {
     "data": {
      "image/png": "[encoded data removed]",
      "text/plain": [
       "<Figure size 1152x216 with 1 Axes>"
      ]
     },
     "metadata": {},
     "output_type": "display_data"
    }
   ],
   "source": [
    "d16_1 = df_16_unigrams[0][:10]\n",
    "d16_2 = df_16_unigrams[1][:10]\n",
    "\n",
    "plt.figure( figsize = (16 , 3))\n",
    "_ = plt.bar(d16_1 , d16_2)"
   ]
  },
  {
   "cell_type": "markdown",
   "metadata": {},
   "source": [
    "### Category 17"
   ]
  },
  {
   "cell_type": "code",
   "execution_count": 143,
   "metadata": {},
   "outputs": [
    {
     "data": {
      "image/png": "[encoded data removed]",
      "text/plain": [
       "<Figure size 1152x216 with 1 Axes>"
      ]
     },
     "metadata": {},
     "output_type": "display_data"
    }
   ],
   "source": [
    "d17_1 = df_17_unigrams[0][:10]\n",
    "d17_2 = df_17_unigrams[1][:10]\n",
    "\n",
    "plt.figure( figsize = (16 , 3))\n",
    "_ = plt.bar(d17_1 , d17_2)"
   ]
  },
  {
   "cell_type": "markdown",
   "metadata": {},
   "source": [
    "### Category 18"
   ]
  },
  {
   "cell_type": "code",
   "execution_count": 144,
   "metadata": {},
   "outputs": [
    {
     "data": {
      "image/png": "[encoded data removed]",
      "text/plain": [
       "<Figure size 1152x216 with 1 Axes>"
      ]
     },
     "metadata": {},
     "output_type": "display_data"
    }
   ],
   "source": [
    "d18_1 = df_18_unigrams[0][:10]\n",
    "d18_2 = df_18_unigrams[1][:10]\n",
    "\n",
    "plt.figure( figsize = (16 , 3))\n",
    "_ = plt.bar(d18_1 , d18_2)"
   ]
  },
  {
   "cell_type": "markdown",
   "metadata": {},
   "source": [
    "### Category 19"
   ]
  },
  {
   "cell_type": "code",
   "execution_count": 145,
   "metadata": {},
   "outputs": [
    {
     "data": {
      "image/png": "[encoded data removed]",
      "text/plain": [
       "<Figure size 1152x216 with 1 Axes>"
      ]
     },
     "metadata": {},
     "output_type": "display_data"
    }
   ],
   "source": [
    "d19_1 = df_19_unigrams[0][:10]\n",
    "d19_2 = df_19_unigrams[1][:10]\n",
    "\n",
    "plt.figure( figsize = (16 , 3))\n",
    "_ = plt.bar(d19_1 , d19_2)"
   ]
  },
  {
   "cell_type": "markdown",
   "metadata": {},
   "source": [
    "### Category 20"
   ]
  },
  {
   "cell_type": "code",
   "execution_count": 146,
   "metadata": {},
   "outputs": [
    {
     "data": {
      "image/png": "[encoded data removed]",
      "text/plain": [
       "<Figure size 1152x216 with 1 Axes>"
      ]
     },
     "metadata": {},
     "output_type": "display_data"
    }
   ],
   "source": [
    "d20_1 = df_20_unigrams[0][:10]\n",
    "d20_2 = df_20_unigrams[1][:10]\n",
    "\n",
    "plt.figure( figsize = (16 , 3))\n",
    "_ = plt.bar(d20_1 , d20_2)"
   ]
  },
  {
   "cell_type": "markdown",
   "metadata": {},
   "source": [
    "### Category 21"
   ]
  },
  {
   "cell_type": "code",
   "execution_count": 147,
   "metadata": {},
   "outputs": [
    {
     "data": {
      "image/png": "[encoded data removed]",
      "text/plain": [
       "<Figure size 1152x216 with 1 Axes>"
      ]
     },
     "metadata": {},
     "output_type": "display_data"
    }
   ],
   "source": [
    "d21_1 = df_21_unigrams[0][:10]\n",
    "d21_2 = df_21_unigrams[1][:10]\n",
    "\n",
    "plt.figure( figsize = (16 , 3))\n",
    "_ = plt.bar(d21_1 , d21_2)"
   ]
  },
  {
   "cell_type": "markdown",
   "metadata": {},
   "source": [
    "### Category 22"
   ]
  },
  {
   "cell_type": "code",
   "execution_count": 148,
   "metadata": {},
   "outputs": [
    {
     "data": {
      "image/png": "[encoded data removed]",
      "text/plain": [
       "<Figure size 1152x216 with 1 Axes>"
      ]
     },
     "metadata": {},
     "output_type": "display_data"
    }
   ],
   "source": [
    "d22_1 = df_22_unigrams[0][:10]\n",
    "d22_2 = df_22_unigrams[1][:10]\n",
    "\n",
    "plt.figure( figsize = (16 , 3))\n",
    "_ = plt.bar(d22_1 , d22_2)"
   ]
  },
  {
   "cell_type": "markdown",
   "metadata": {},
   "source": [
    "### Category 23"
   ]
  },
  {
   "cell_type": "code",
   "execution_count": 149,
   "metadata": {},
   "outputs": [
    {
     "data": {
      "image/png": "[encoded data removed]",
      "text/plain": [
       "<Figure size 1152x216 with 1 Axes>"
      ]
     },
     "metadata": {},
     "output_type": "display_data"
    }
   ],
   "source": [
    "d23_1 = df_23_unigrams[0][:10]\n",
    "d23_2 = df_23_unigrams[1][:10]\n",
    "\n",
    "plt.figure( figsize = (16 , 3))\n",
    "_ = plt.bar(d23_1 , d23_2)"
   ]
  },
  {
   "cell_type": "markdown",
   "metadata": {},
   "source": [
    "### Category 24"
   ]
  },
  {
   "cell_type": "code",
   "execution_count": 150,
   "metadata": {},
   "outputs": [
    {
     "data": {
      "image/png": "[encoded data removed]",
      "text/plain": [
       "<Figure size 1152x216 with 1 Axes>"
      ]
     },
     "metadata": {},
     "output_type": "display_data"
    }
   ],
   "source": [
    "d24_1 = df_24_unigrams[0][:10]\n",
    "d24_2 = df_24_unigrams[1][:10]\n",
    "\n",
    "plt.figure( figsize = (16 , 3))\n",
    "_ = plt.bar(d24_1 , d24_2)"
   ]
  },
  {
   "cell_type": "markdown",
   "metadata": {},
   "source": [
    "### Category 25"
   ]
  },
  {
   "cell_type": "code",
   "execution_count": 151,
   "metadata": {},
   "outputs": [
    {
     "data": {
      "image/png": "[encoded data removed]",
      "text/plain": [
       "<Figure size 1152x216 with 1 Axes>"
      ]
     },
     "metadata": {},
     "output_type": "display_data"
    }
   ],
   "source": [
    "d25_1 = df_25_unigrams[0][:10]\n",
    "d25_2 = df_25_unigrams[1][:10]\n",
    "\n",
    "plt.figure( figsize = (16 , 3))\n",
    "_ = plt.bar(d25_1 , d25_2)"
   ]
  },
  {
   "cell_type": "markdown",
   "metadata": {},
   "source": [
    "### Category 26"
   ]
  },
  {
   "cell_type": "code",
   "execution_count": 152,
   "metadata": {},
   "outputs": [
    {
     "data": {
      "image/png": "[encoded data removed]",
      "text/plain": [
       "<Figure size 1152x216 with 1 Axes>"
      ]
     },
     "metadata": {},
     "output_type": "display_data"
    }
   ],
   "source": [
    "d26_1 = df_26_unigrams[0][:10]\n",
    "d26_2 = df_26_unigrams[1][:10]\n",
    "\n",
    "plt.figure( figsize = (16 , 3))\n",
    "_ = plt.bar(d26_1 , d26_2)"
   ]
  },
  {
   "cell_type": "markdown",
   "metadata": {},
   "source": [
    "### Category 27"
   ]
  },
  {
   "cell_type": "code",
   "execution_count": 153,
   "metadata": {},
   "outputs": [
    {
     "data": {
      "image/png": "[encoded data removed]",
      "text/plain": [
       "<Figure size 1152x216 with 1 Axes>"
      ]
     },
     "metadata": {},
     "output_type": "display_data"
    }
   ],
   "source": [
    "d27_1 = df_27_unigrams[0][:10]\n",
    "d27_2 = df_27_unigrams[1][:10]\n",
    "\n",
    "plt.figure( figsize = (16 , 3))\n",
    "_ = plt.bar(d27_1 , d27_2)"
   ]
  },
  {
   "cell_type": "markdown",
   "metadata": {},
   "source": [
    "### Category 28"
   ]
  },
  {
   "cell_type": "markdown",
   "metadata": {},
   "source": [
    "#### is null"
   ]
  },
  {
   "cell_type": "markdown",
   "metadata": {},
   "source": [
    "### Category 29"
   ]
  },
  {
   "cell_type": "code",
   "execution_count": 154,
   "metadata": {},
   "outputs": [
    {
     "data": {
      "image/png": "[encoded data removed]",
      "text/plain": [
       "<Figure size 1152x216 with 1 Axes>"
      ]
     },
     "metadata": {},
     "output_type": "display_data"
    }
   ],
   "source": [
    "d29_1 = df_29_unigrams[0][:10]\n",
    "d29_2 = df_29_unigrams[1][:10]\n",
    "\n",
    "plt.figure( figsize = (16 , 3))\n",
    "_ = plt.bar(d29_1 , d29_2)"
   ]
  },
  {
   "cell_type": "markdown",
   "metadata": {},
   "source": [
    "### Category 30"
   ]
  },
  {
   "cell_type": "code",
   "execution_count": 155,
   "metadata": {},
   "outputs": [
    {
     "data": {
      "image/png": "[encoded data removed]",
      "text/plain": [
       "<Figure size 1152x216 with 1 Axes>"
      ]
     },
     "metadata": {},
     "output_type": "display_data"
    }
   ],
   "source": [
    "d30_1 = df_30_unigrams[0][:10]\n",
    "d30_2 = df_30_unigrams[1][:10]\n",
    "\n",
    "plt.figure( figsize = (16 , 3))\n",
    "_ = plt.bar(d30_1 , d30_2)"
   ]
  },
  {
   "cell_type": "markdown",
   "metadata": {},
   "source": [
    "### check the most common biogram in a whole corpus"
   ]
  },
  {
   "cell_type": "code",
   "execution_count": 156,
   "metadata": {},
   "outputs": [],
   "source": [
    "from sklearn.feature_extraction.text import CountVectorizer\n",
    "\n",
    "def get_top_text_ngrams(corpus , ngrams = (1,1) , nr = None):\n",
    "    \n",
    "    #creates a bag of ngrams and counts ngram frequency.\n",
    "    #returns a sorted list of tuples : (ngram , count)\n",
    "    \n",
    "    vec = CountVectorizer(ngram_range=ngrams).fit(corpus)\n",
    "    bag_of_words = vec.transform(corpus)\n",
    "    sum_words = bag_of_words.sum(axis=0)\n",
    "    words_freq = [(word , sum_words[0,idx]) for word , idx in vec.vocabulary_.items()]\n",
    "    words_freq = sorted(words_freq , key = lambda x: x[1] , reverse = True)\n",
    "    return words_freq[:nr]"
   ]
  },
  {
   "cell_type": "code",
   "execution_count": 157,
   "metadata": {},
   "outputs": [],
   "source": [
    "top_text_biograms = get_top_text_ngrams(df.keywords , ngrams=(2,2) , nr =10)"
   ]
  },
  {
   "cell_type": "code",
   "execution_count": 158,
   "metadata": {},
   "outputs": [
    {
     "data": {
      "text/plain": [
       "[('portrait beauti', 3482),\n",
       " ('femal girl', 2845),\n",
       " ('and white', 2265),\n",
       " ('black and', 2243),\n",
       " ('beauti beauti', 1824),\n",
       " ('eye portrait', 1626),\n",
       " ('beauti young', 1522),\n",
       " ('fashion woman', 1395),\n",
       " ('young beauti', 1350),\n",
       " ('beauti face', 1192)]"
      ]
     },
     "execution_count": 158,
     "metadata": {},
     "output_type": "execute_result"
    }
   ],
   "source": [
    "top_text_biograms"
   ]
  },
  {
   "cell_type": "code",
   "execution_count": 159,
   "metadata": {},
   "outputs": [
    {
     "data": {
      "text/plain": [
       "<BarContainer object of 10 artists>"
      ]
     },
     "execution_count": 159,
     "metadata": {},
     "output_type": "execute_result"
    },
    {
     "data": {
      "image/png": "[encoded data removed]",
      "text/plain": [
       "<Figure size 1152x360 with 1 Axes>"
      ]
     },
     "metadata": {},
     "output_type": "display_data"
    }
   ],
   "source": [
    "x,y = zip(*top_text_biograms)\n",
    "plt.figure(1 , figsize=(16,5))\n",
    "plt.subplot(1,1,1)\n",
    "plt.bar(x,y)"
   ]
  },
  {
   "cell_type": "markdown",
   "metadata": {},
   "source": [
    "## Tokenization "
   ]
  },
  {
   "cell_type": "code",
   "execution_count": 160,
   "metadata": {},
   "outputs": [],
   "source": [
    "from nltk.tokenize import TreebankWordTokenizer\n",
    "\n",
    "tokenizer = TreebankWordTokenizer()\n",
    "df['tokens'] = df['keywords'].map(tokenizer.tokenize)"
   ]
  },
  {
   "cell_type": "code",
   "execution_count": 161,
   "metadata": {},
   "outputs": [
    {
     "data": {
      "text/html": [
       "<div>\n",
       "<style scoped>\n",
       "    .dataframe tbody tr th:only-of-type {\n",
       "        vertical-align: middle;\n",
       "    }\n",
       "\n",
       "    .dataframe tbody tr th {\n",
       "        vertical-align: top;\n",
       "    }\n",
       "\n",
       "    .dataframe thead th {\n",
       "        text-align: right;\n",
       "    }\n",
       "</style>\n",
       "<table border=\"1\" class=\"dataframe\">\n",
       "  <thead>\n",
       "    <tr style=\"text-align: right;\">\n",
       "      <th></th>\n",
       "      <th>keywords</th>\n",
       "      <th>tokens</th>\n",
       "    </tr>\n",
       "  </thead>\n",
       "  <tbody>\n",
       "    <tr>\n",
       "      <th>0</th>\n",
       "      <td>group five friend celebr their summer beach ho...</td>\n",
       "      <td>[group, five, friend, celebr, their, summer, b...</td>\n",
       "    </tr>\n",
       "    <tr>\n",
       "      <th>1</th>\n",
       "      <td>young beauti girl outdoor portrait young beaut...</td>\n",
       "      <td>[young, beauti, girl, outdoor, portrait, young...</td>\n",
       "    </tr>\n",
       "    <tr>\n",
       "      <th>2</th>\n",
       "      <td>two children run follow action two children ru...</td>\n",
       "      <td>[two, children, run, follow, action, two, chil...</td>\n",
       "    </tr>\n",
       "    <tr>\n",
       "      <th>3</th>\n",
       "      <td>group five friend celebr their summer beach ho...</td>\n",
       "      <td>[group, five, friend, celebr, their, summer, b...</td>\n",
       "    </tr>\n",
       "    <tr>\n",
       "      <th>4</th>\n",
       "      <td>lover the tide photoshop action lightroom pres...</td>\n",
       "      <td>[lover, the, tide, photoshop, action, lightroo...</td>\n",
       "    </tr>\n",
       "    <tr>\n",
       "      <th>5</th>\n",
       "      <td>flora shot flora cologn germani flower beauti ...</td>\n",
       "      <td>[flora, shot, flora, cologn, germani, flower, ...</td>\n",
       "    </tr>\n",
       "    <tr>\n",
       "      <th>6</th>\n",
       "      <td>wheelchair basketbal young woman wheelchair ba...</td>\n",
       "      <td>[wheelchair, basketbal, young, woman, wheelcha...</td>\n",
       "    </tr>\n",
       "    <tr>\n",
       "      <th>7</th>\n",
       "      <td>besid mum portrait anim portrait pattern anim ...</td>\n",
       "      <td>[besid, mum, portrait, anim, portrait, pattern...</td>\n",
       "    </tr>\n",
       "    <tr>\n",
       "      <th>8</th>\n",
       "      <td>crack shell eye portrait eye face beard dramat...</td>\n",
       "      <td>[crack, shell, eye, portrait, eye, face, beard...</td>\n",
       "    </tr>\n",
       "    <tr>\n",
       "      <th>9</th>\n",
       "      <td>attract ladi read ancient book near vintag ker...</td>\n",
       "      <td>[attract, ladi, read, ancient, book, near, vin...</td>\n",
       "    </tr>\n",
       "  </tbody>\n",
       "</table>\n",
       "</div>"
      ],
      "text/plain": [
       "                                            keywords  \\\n",
       "0  group five friend celebr their summer beach ho...   \n",
       "1  young beauti girl outdoor portrait young beaut...   \n",
       "2  two children run follow action two children ru...   \n",
       "3  group five friend celebr their summer beach ho...   \n",
       "4  lover the tide photoshop action lightroom pres...   \n",
       "5  flora shot flora cologn germani flower beauti ...   \n",
       "6  wheelchair basketbal young woman wheelchair ba...   \n",
       "7  besid mum portrait anim portrait pattern anim ...   \n",
       "8  crack shell eye portrait eye face beard dramat...   \n",
       "9  attract ladi read ancient book near vintag ker...   \n",
       "\n",
       "                                              tokens  \n",
       "0  [group, five, friend, celebr, their, summer, b...  \n",
       "1  [young, beauti, girl, outdoor, portrait, young...  \n",
       "2  [two, children, run, follow, action, two, chil...  \n",
       "3  [group, five, friend, celebr, their, summer, b...  \n",
       "4  [lover, the, tide, photoshop, action, lightroo...  \n",
       "5  [flora, shot, flora, cologn, germani, flower, ...  \n",
       "6  [wheelchair, basketbal, young, woman, wheelcha...  \n",
       "7  [besid, mum, portrait, anim, portrait, pattern...  \n",
       "8  [crack, shell, eye, portrait, eye, face, beard...  \n",
       "9  [attract, ladi, read, ancient, book, near, vin...  "
      ]
     },
     "execution_count": 161,
     "metadata": {},
     "output_type": "execute_result"
    }
   ],
   "source": [
    "df[['keywords' , 'tokens']].head(10)"
   ]
  },
  {
   "cell_type": "markdown",
   "metadata": {},
   "source": [
    "# Bag of words"
   ]
  },
  {
   "cell_type": "markdown",
   "metadata": {},
   "source": [
    "#### bag of words just associates an index to each word in the vocabulary , and embeds each sentence as a list of 0s , with a 1 at each index corresponding to a word present in the sentence."
   ]
  },
  {
   "cell_type": "code",
   "execution_count": 162,
   "metadata": {},
   "outputs": [],
   "source": [
    "from sklearn.feature_extraction.text import CountVectorizer\n",
    "\n",
    "def count_vect(data , ngrams = (1,1)):\n",
    "    \n",
    "    count_vectorizer = CountVectorizer(ngram_range=ngrams)\n",
    "    emb = count_vectorizer.fit_transform(data)\n",
    "    \n",
    "    return emb , count_vectorizer"
   ]
  },
  {
   "cell_type": "code",
   "execution_count": 163,
   "metadata": {},
   "outputs": [],
   "source": [
    "df_counts , count_vectorizer =count_vect(df['keywords'])"
   ]
  },
  {
   "cell_type": "code",
   "execution_count": 164,
   "metadata": {},
   "outputs": [
    {
     "data": {
      "text/plain": [
       "(16303, 6)"
      ]
     },
     "execution_count": 164,
     "metadata": {},
     "output_type": "execute_result"
    }
   ],
   "source": [
    "df.shape"
   ]
  },
  {
   "cell_type": "code",
   "execution_count": 165,
   "metadata": {},
   "outputs": [
    {
     "ename": "MemoryError",
     "evalue": "Unable to allocate 2.71 GiB for an array with shape (16303, 22327) and data type int64",
     "output_type": "error",
     "traceback": [
      "\u001b[1;31m---------------------------------------------------------------------------\u001b[0m",
      "\u001b[1;31mMemoryError\u001b[0m                               Traceback (most recent call last)",
      "\u001b[1;32m<ipython-input-165-012ba47d710e>\u001b[0m in \u001b[0;36m<module>\u001b[1;34m\u001b[0m\n\u001b[1;32m----> 1\u001b[1;33m \u001b[0mdf_counts\u001b[0m\u001b[1;33m.\u001b[0m\u001b[0mtodense\u001b[0m\u001b[1;33m(\u001b[0m\u001b[1;33m)\u001b[0m\u001b[1;33m.\u001b[0m\u001b[0mshape\u001b[0m\u001b[1;33m\u001b[0m\u001b[1;33m\u001b[0m\u001b[0m\n\u001b[0m",
      "\u001b[1;32m~\\anaconda3\\lib\\site-packages\\scipy\\sparse\\base.py\u001b[0m in \u001b[0;36mtodense\u001b[1;34m(self, order, out)\u001b[0m\n\u001b[0;32m    849\u001b[0m             \u001b[0;31m`\u001b[0m\u001b[0mnumpy\u001b[0m\u001b[1;33m.\u001b[0m\u001b[0mmatrix\u001b[0m\u001b[0;31m`\u001b[0m \u001b[0mobject\u001b[0m \u001b[0mthat\u001b[0m \u001b[0mshares\u001b[0m \u001b[0mthe\u001b[0m \u001b[0msame\u001b[0m \u001b[0mmemory\u001b[0m\u001b[1;33m.\u001b[0m\u001b[1;33m\u001b[0m\u001b[1;33m\u001b[0m\u001b[0m\n\u001b[0;32m    850\u001b[0m         \"\"\"\n\u001b[1;32m--> 851\u001b[1;33m         \u001b[1;32mreturn\u001b[0m \u001b[0masmatrix\u001b[0m\u001b[1;33m(\u001b[0m\u001b[0mself\u001b[0m\u001b[1;33m.\u001b[0m\u001b[0mtoarray\u001b[0m\u001b[1;33m(\u001b[0m\u001b[0morder\u001b[0m\u001b[1;33m=\u001b[0m\u001b[0morder\u001b[0m\u001b[1;33m,\u001b[0m \u001b[0mout\u001b[0m\u001b[1;33m=\u001b[0m\u001b[0mout\u001b[0m\u001b[1;33m)\u001b[0m\u001b[1;33m)\u001b[0m\u001b[1;33m\u001b[0m\u001b[1;33m\u001b[0m\u001b[0m\n\u001b[0m\u001b[0;32m    852\u001b[0m \u001b[1;33m\u001b[0m\u001b[0m\n\u001b[0;32m    853\u001b[0m     \u001b[1;32mdef\u001b[0m \u001b[0mtoarray\u001b[0m\u001b[1;33m(\u001b[0m\u001b[0mself\u001b[0m\u001b[1;33m,\u001b[0m \u001b[0morder\u001b[0m\u001b[1;33m=\u001b[0m\u001b[1;32mNone\u001b[0m\u001b[1;33m,\u001b[0m \u001b[0mout\u001b[0m\u001b[1;33m=\u001b[0m\u001b[1;32mNone\u001b[0m\u001b[1;33m)\u001b[0m\u001b[1;33m:\u001b[0m\u001b[1;33m\u001b[0m\u001b[1;33m\u001b[0m\u001b[0m\n",
      "\u001b[1;32m~\\anaconda3\\lib\\site-packages\\scipy\\sparse\\compressed.py\u001b[0m in \u001b[0;36mtoarray\u001b[1;34m(self, order, out)\u001b[0m\n\u001b[0;32m   1023\u001b[0m         \u001b[1;32mif\u001b[0m \u001b[0mout\u001b[0m \u001b[1;32mis\u001b[0m \u001b[1;32mNone\u001b[0m \u001b[1;32mand\u001b[0m \u001b[0morder\u001b[0m \u001b[1;32mis\u001b[0m \u001b[1;32mNone\u001b[0m\u001b[1;33m:\u001b[0m\u001b[1;33m\u001b[0m\u001b[1;33m\u001b[0m\u001b[0m\n\u001b[0;32m   1024\u001b[0m             \u001b[0morder\u001b[0m \u001b[1;33m=\u001b[0m \u001b[0mself\u001b[0m\u001b[1;33m.\u001b[0m\u001b[0m_swap\u001b[0m\u001b[1;33m(\u001b[0m\u001b[1;34m'cf'\u001b[0m\u001b[1;33m)\u001b[0m\u001b[1;33m[\u001b[0m\u001b[1;36m0\u001b[0m\u001b[1;33m]\u001b[0m\u001b[1;33m\u001b[0m\u001b[1;33m\u001b[0m\u001b[0m\n\u001b[1;32m-> 1025\u001b[1;33m         \u001b[0mout\u001b[0m \u001b[1;33m=\u001b[0m \u001b[0mself\u001b[0m\u001b[1;33m.\u001b[0m\u001b[0m_process_toarray_args\u001b[0m\u001b[1;33m(\u001b[0m\u001b[0morder\u001b[0m\u001b[1;33m,\u001b[0m \u001b[0mout\u001b[0m\u001b[1;33m)\u001b[0m\u001b[1;33m\u001b[0m\u001b[1;33m\u001b[0m\u001b[0m\n\u001b[0m\u001b[0;32m   1026\u001b[0m         \u001b[1;32mif\u001b[0m \u001b[1;32mnot\u001b[0m \u001b[1;33m(\u001b[0m\u001b[0mout\u001b[0m\u001b[1;33m.\u001b[0m\u001b[0mflags\u001b[0m\u001b[1;33m.\u001b[0m\u001b[0mc_contiguous\u001b[0m \u001b[1;32mor\u001b[0m \u001b[0mout\u001b[0m\u001b[1;33m.\u001b[0m\u001b[0mflags\u001b[0m\u001b[1;33m.\u001b[0m\u001b[0mf_contiguous\u001b[0m\u001b[1;33m)\u001b[0m\u001b[1;33m:\u001b[0m\u001b[1;33m\u001b[0m\u001b[1;33m\u001b[0m\u001b[0m\n\u001b[0;32m   1027\u001b[0m             \u001b[1;32mraise\u001b[0m \u001b[0mValueError\u001b[0m\u001b[1;33m(\u001b[0m\u001b[1;34m'Output array must be C or F contiguous'\u001b[0m\u001b[1;33m)\u001b[0m\u001b[1;33m\u001b[0m\u001b[1;33m\u001b[0m\u001b[0m\n",
      "\u001b[1;32m~\\anaconda3\\lib\\site-packages\\scipy\\sparse\\base.py\u001b[0m in \u001b[0;36m_process_toarray_args\u001b[1;34m(self, order, out)\u001b[0m\n\u001b[0;32m   1187\u001b[0m             \u001b[1;32mreturn\u001b[0m \u001b[0mout\u001b[0m\u001b[1;33m\u001b[0m\u001b[1;33m\u001b[0m\u001b[0m\n\u001b[0;32m   1188\u001b[0m         \u001b[1;32melse\u001b[0m\u001b[1;33m:\u001b[0m\u001b[1;33m\u001b[0m\u001b[1;33m\u001b[0m\u001b[0m\n\u001b[1;32m-> 1189\u001b[1;33m             \u001b[1;32mreturn\u001b[0m \u001b[0mnp\u001b[0m\u001b[1;33m.\u001b[0m\u001b[0mzeros\u001b[0m\u001b[1;33m(\u001b[0m\u001b[0mself\u001b[0m\u001b[1;33m.\u001b[0m\u001b[0mshape\u001b[0m\u001b[1;33m,\u001b[0m \u001b[0mdtype\u001b[0m\u001b[1;33m=\u001b[0m\u001b[0mself\u001b[0m\u001b[1;33m.\u001b[0m\u001b[0mdtype\u001b[0m\u001b[1;33m,\u001b[0m \u001b[0morder\u001b[0m\u001b[1;33m=\u001b[0m\u001b[0morder\u001b[0m\u001b[1;33m)\u001b[0m\u001b[1;33m\u001b[0m\u001b[1;33m\u001b[0m\u001b[0m\n\u001b[0m\u001b[0;32m   1190\u001b[0m \u001b[1;33m\u001b[0m\u001b[0m\n\u001b[0;32m   1191\u001b[0m \u001b[1;33m\u001b[0m\u001b[0m\n",
      "\u001b[1;31mMemoryError\u001b[0m: Unable to allocate 2.71 GiB for an array with shape (16303, 22327) and data type int64"
     ]
    }
   ],
   "source": [
    "df_counts.todense().shape"
   ]
  },
  {
   "cell_type": "code",
   "execution_count": null,
   "metadata": {},
   "outputs": [],
   "source": [
    "#list of 0s present in the sentence\n",
    "len(df_counts.todense()[0].tolist()[0])"
   ]
  },
  {
   "cell_type": "code",
   "execution_count": null,
   "metadata": {},
   "outputs": [],
   "source": [
    "df.keywords.iloc[0]"
   ]
  },
  {
   "cell_type": "code",
   "execution_count": null,
   "metadata": {},
   "outputs": [],
   "source": [
    "# numbers of one for each word\n",
    "print(df_counts.todense()[0][0:].sum())"
   ]
  },
  {
   "cell_type": "markdown",
   "metadata": {},
   "source": [
    "# TF-IDF is a better strategy"
   ]
  },
  {
   "cell_type": "markdown",
   "metadata": {},
   "source": [
    "#### We can use the TF-IDF score of a word to rank it's importance. The TF-IDF score of a word ,  w is : Tf(w)* idf(w)\n",
    "\n",
    "#### where tf(w) = ( number of times the word appears in a document ) / ( total number of words in the document)\n",
    "\n",
    "#### and where idf(w) = log(number of documents) / (number of  documents that contain word w)\n",
    "\n",
    "####  Frequently occuring words typically don't contain useful information therefore TF-IDF is great for assessing word relevancy."
   ]
  },
  {
   "cell_type": "code",
   "execution_count": null,
   "metadata": {},
   "outputs": [],
   "source": [
    "from sklearn.feature_extraction.text import TfidfVectorizer\n",
    "\n",
    "def tfidf(data , ngrams =(1,1)):\n",
    "    tfidf_vectorizer = TfidfVectorizer(ngram_range = ngrams)\n",
    "    df = tfidf_vectorizer.fit_transform(data)\n",
    "    \n",
    "    return df , tfidf_vectorizer\n",
    "\n",
    "df_tfidf , tfidf_vectorizer = tfidf(df['keywords'])"
   ]
  },
  {
   "cell_type": "code",
   "execution_count": null,
   "metadata": {},
   "outputs": [],
   "source": [
    "[x for x in df_tfidf.todense()[0][0:].tolist()[0] if x != 0]"
   ]
  },
  {
   "cell_type": "code",
   "execution_count": null,
   "metadata": {},
   "outputs": [],
   "source": [
    "df_tfidf.todense()[0][0:].sum()"
   ]
  },
  {
   "cell_type": "code",
   "execution_count": null,
   "metadata": {},
   "outputs": [],
   "source": [
    "#[x for x in df_tfidf.todense()[1][0:].tolist()[0] if x != 0]"
   ]
  },
  {
   "cell_type": "code",
   "execution_count": null,
   "metadata": {},
   "outputs": [],
   "source": [
    "#print(df_tfidf.todense()[1][0:].sum())"
   ]
  },
  {
   "cell_type": "code",
   "execution_count": null,
   "metadata": {},
   "outputs": [],
   "source": [
    "from scipy.sparse import csr_matrix\n",
    "from sklearn.feature_extraction.text import TfidfVectorizer\n",
    "from sklearn.decomposition import TruncatedSVD\n",
    "from sklearn.cluster import KMeans\n",
    "from sklearn.pipeline import make_pipeline\n",
    "\n"
   ]
  },
  {
   "cell_type": "code",
   "execution_count": null,
   "metadata": {},
   "outputs": [],
   "source": [
    "tfidf = TfidfVectorizer()\n",
    "csr_mat = tfidf.fit_transform(df['keywords'])\n",
    "words = tfidf.get_feature_names()\n",
    "csr_mat.toarray()"
   ]
  },
  {
   "cell_type": "code",
   "execution_count": null,
   "metadata": {},
   "outputs": [],
   "source": []
  },
  {
   "cell_type": "code",
   "execution_count": null,
   "metadata": {},
   "outputs": [],
   "source": [
    "# "
   ]
  },
  {
   "cell_type": "code",
   "execution_count": null,
   "metadata": {},
   "outputs": [],
   "source": []
  },
  {
   "cell_type": "code",
   "execution_count": null,
   "metadata": {},
   "outputs": [],
   "source": []
  },
  {
   "cell_type": "code",
   "execution_count": null,
   "metadata": {},
   "outputs": [],
   "source": []
  },
  {
   "cell_type": "code",
   "execution_count": null,
   "metadata": {},
   "outputs": [],
   "source": []
  },
  {
   "cell_type": "code",
   "execution_count": null,
   "metadata": {},
   "outputs": [],
   "source": []
  },
  {
   "cell_type": "markdown",
   "metadata": {},
   "source": [
    "# PCA"
   ]
  },
  {
   "cell_type": "code",
   "execution_count": null,
   "metadata": {},
   "outputs": [],
   "source": [
    "import sklearn\n",
    "from sklearn import decomposition\n",
    "from sklearn.decomposition import PCA"
   ]
  },
  {
   "cell_type": "code",
   "execution_count": null,
   "metadata": {},
   "outputs": [],
   "source": [
    "import numpy as np\n",
    "np.seterr(divide='ignore', invalid='ignore')\n",
    "\n",
    "pca = PCA()\n",
    "pca.fit()\n",
    "frequent_pca=pca.transform()\n",
    "pca.explained_variance_ratio_.sum()"
   ]
  },
  {
   "cell_type": "code",
   "execution_count": null,
   "metadata": {},
   "outputs": [],
   "source": [
    "pca.explained_variance_ratio_"
   ]
  },
  {
   "cell_type": "code",
   "execution_count": null,
   "metadata": {},
   "outputs": [],
   "source": [
    "nfeature = range(pca.n_components_)\n",
    "var_feature = pca.explained_variance_\n",
    "plt.subplots(figsize=(30,6))\n",
    "plt.bar(nfeature , var_feature)\n",
    "plt.xlabel('PCA feature')\n",
    "plt.ylabel('variance')\n",
    "plt.xticks(nfeature)\n",
    "plt.show()"
   ]
  },
  {
   "cell_type": "code",
   "execution_count": null,
   "metadata": {},
   "outputs": [],
   "source": [
    "x = dftags\n",
    "variable_names = dftags.columns\n",
    "comp = pd.DataFrame(pca.components_ , columns = variable_names)\n",
    "comp"
   ]
  },
  {
   "cell_type": "code",
   "execution_count": null,
   "metadata": {},
   "outputs": [],
   "source": [
    "import matplotlib.pyplot as plt\n",
    "import seaborn as sb\n",
    "fig, ax = plt.subplots(figsize=(20,15))\n",
    "sb.heatmap(comp)"
   ]
  },
  {
   "cell_type": "code",
   "execution_count": null,
   "metadata": {},
   "outputs": [],
   "source": [
    "import matplotlib.pyplot as plt\n",
    "\n",
    "nfeature = variable_names\n",
    "var_feature = pca.components_[0]\n",
    "plt.subplots(figsize = (30 , 6))\n",
    "plt.bar(nfeature , var_feature)\n",
    "plt.xlabel('PCA feature')\n",
    "#plt.ylebel('variance')\n",
    "plt.xticks(nfeature , rotation = 'vertical' , fontsize = 20)\n",
    "plt.show()"
   ]
  },
  {
   "cell_type": "code",
   "execution_count": null,
   "metadata": {},
   "outputs": [],
   "source": [
    "pca = PCA(n_components = 0.6)\n",
    "pca.fit(dftags)\n",
    "dftags_pca = pca.transform(dftags)\n",
    "pca.explained_variance_ratio_.sum()"
   ]
  },
  {
   "cell_type": "code",
   "execution_count": null,
   "metadata": {},
   "outputs": [],
   "source": [
    "comps = pd.DataFrame(pca.components_ , columns = variable_names)\n",
    "comps.shape[0]"
   ]
  },
  {
   "cell_type": "code",
   "execution_count": null,
   "metadata": {},
   "outputs": [],
   "source": [
    "pca = PCA(n_components = 0.9)\n",
    "pca.fit(dftags)\n",
    "df_pca = pca.transform(dftags)\n",
    "pca.explained_variance_ratio_.sum()"
   ]
  },
  {
   "cell_type": "code",
   "execution_count": null,
   "metadata": {},
   "outputs": [],
   "source": [
    "comps = pd.DataFrame(pca.components_ , columns = variable_names)\n",
    "comps.shape[0]"
   ]
  },
  {
   "cell_type": "code",
   "execution_count": null,
   "metadata": {},
   "outputs": [],
   "source": [
    "pca = PCA(n_components = 0.62)\n",
    "pca.fit(dftags)\n",
    "df_pca = pca.transform(dftags)\n",
    "pca.explained_variance_ratio_.sum()"
   ]
  },
  {
   "cell_type": "code",
   "execution_count": null,
   "metadata": {},
   "outputs": [],
   "source": [
    "comps = pd.DataFrame(dftags_pca)\n",
    "comps"
   ]
  },
  {
   "cell_type": "code",
   "execution_count": null,
   "metadata": {},
   "outputs": [],
   "source": []
  }
 ],
 "metadata": {
  "kernelspec": {
   "display_name": "Python 3",
   "language": "python",
   "name": "python3"
  },
  "language_info": {
   "codemirror_mode": {
    "name": "ipython",
    "version": 3
   },
   "file_extension": ".py",
   "mimetype": "text/x-python",
   "name": "python",
   "nbconvert_exporter": "python",
   "pygments_lexer": "ipython3",
   "version": "3.7.3"
  }
 },
 "nbformat": 4,
 "nbformat_minor": 4
}
